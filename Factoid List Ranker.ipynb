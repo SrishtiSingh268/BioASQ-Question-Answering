{
 "cells": [
  {
   "cell_type": "code",
   "execution_count": 1,
   "metadata": {},
   "outputs": [],
   "source": [
    "import json\n",
    "import pandas as pd\n",
    "import numpy as np"
   ]
  },
  {
   "cell_type": "code",
   "execution_count": 2,
   "metadata": {},
   "outputs": [],
   "source": [
    "from dataLoader import DataLoader\n",
    "from ner import evaluator, pubtator\n",
    "\n",
    "input_path = 'input/BioASQ-trainingDataset6b.json'\n",
    "data = DataLoader(input_path)"
   ]
  },
  {
   "cell_type": "code",
   "execution_count": 3,
   "metadata": {},
   "outputs": [],
   "source": [
    "# Get the candidate entities\n",
    "\n",
    "pubtator_results = pd.read_pickle('pubtator_results')\n",
    "cnn_gram_results = pd.read_pickle('cnn_gram_results')\n",
    "cnn_gram_results = evaluator.clean_entities(cnn_gram_results, data)\n",
    "lingpipe_results = pd.read_pickle('lingpipe_results')\n",
    "\n",
    "results = [pubtator_results, lingpipe_results, cnn_gram_results]\n",
    "typ = 'union'\n",
    "ensemble = evaluator.ensemble_tags(results, typ=typ)\n",
    "ensemble_union = evaluator.clean_entities(ensemble, data)\n",
    "\n",
    "typ = 'intersection'\n",
    "ensemble = evaluator.ensemble_tags(results, typ=typ)\n",
    "ensemble_intersection = evaluator.clean_entities(ensemble, data)"
   ]
  },
  {
   "cell_type": "code",
   "execution_count": 66,
   "metadata": {},
   "outputs": [],
   "source": [
    "def entity_score_by_type(sentence_scores, entity):\n",
    "    acc_bm25 = 0\n",
    "    acc_indri = 0\n",
    "    for sentence_score in sentence_scores:\n",
    "        if entity in sentence_score['sentence']:\n",
    "            acc_bm25 += sentence_score['bm25']\n",
    "            acc_indri += sentence_score['indri']\n",
    "\n",
    "    return {'BM25': acc_bm25, 'INDRI': acc_indri}\n",
    "\n",
    "def entity_score(sentence_scores, entity):\n",
    "    score = entity_score_by_type(sentence_scores, entity)\n",
    "#     return (score['INDRI'], score['BM25'])\n",
    "    return (score['BM25'], score['INDRI'])\n",
    "\n",
    "def top_entities(entities, score_list, n):\n",
    "    entity_scores = [(entity_score(score_list, entity), entity) for entity in entities]\n",
    "    return [entity for score, entity in sorted(entity_scores, reverse=True)[:n]]"
   ]
  },
  {
   "cell_type": "code",
   "execution_count": 67,
   "metadata": {},
   "outputs": [],
   "source": [
    "run exact_answer_evaluator.py"
   ]
  },
  {
   "cell_type": "code",
   "execution_count": 68,
   "metadata": {},
   "outputs": [
    {
     "name": "stdout",
     "output_type": "stream",
     "text": [
      "Time taken to compute for lingpipe = 18.24 seconds\n",
      "   Exact Matches  MRR Exact  MRR Soft  Soft Matches      name\n",
      "0       0.045827   0.026978  0.446427      0.607201  lingpipe\n"
     ]
    }
   ],
   "source": [
    "import FactoidScoreEvaluator\n",
    "import time\n",
    "\n",
    "dfs = {\n",
    "    'pubtator': pubtator_results,\n",
    "    'lingpipe': lingpipe_results,\n",
    "    'Gram CNN': cnn_gram_results,\n",
    "    'Ensemble Union': ensemble_union,\n",
    "    'Ensemble Intersection': ensemble_intersection\n",
    "}\n",
    "\n",
    "all_results = []\n",
    "\n",
    "for name, df in dfs.items():\n",
    "    data = DataLoader(input_path)\n",
    "    start = time.time()\n",
    "\n",
    "    for _, row in df.iterrows():\n",
    "        qid = row.qid\n",
    "        if not data.questions[qid].snippets:\n",
    "            continue\n",
    "        score_list = FactoidScoreEvaluator.getScoreList(data.questions[qid].question, data.questions[qid].snippets)\n",
    "        if row.type == 'factoid':\n",
    "            data.questions[qid].exact_answer = top_entities(row.entities, score_list, 5)\n",
    "        elif row.type == 'list':\n",
    "            pass\n",
    "#             data.questions[qid].exact_answer = top_entities(row.entities, score_list, 10)\n",
    "        else:\n",
    "            raise 'Unexpected'\n",
    "\n",
    "    print 'Time taken to compute for %s = %.2f seconds' % (name, time.time() - start)    \n",
    "    evaluator = ExactAnswerEvaluator()\n",
    "    result = evaluator.eval(data)\n",
    "    result['name'] = name\n",
    "    all_results.append(result)\n",
    "\n",
    "print pd.DataFrame(all_results)"
   ]
  },
  {
   "cell_type": "code",
   "execution_count": 69,
   "metadata": {},
   "outputs": [
    {
     "data": {
      "text/plain": [
       "{'Exact Matches': 0.04582651391162029,\n",
       " 'MRR Exact': 0.026977632296781233,\n",
       " 'MRR Soft': 0.4464266230223676,\n",
       " 'Soft Matches': 0.6072013093289689}"
      ]
     },
     "execution_count": 69,
     "metadata": {},
     "output_type": "execute_result"
    }
   ],
   "source": [
    "evaluator = ExactAnswerEvaluator()\n",
    "evaluator.eval(data)"
   ]
  },
  {
   "cell_type": "code",
   "execution_count": 19,
   "metadata": {},
   "outputs": [],
   "source": [
    "# pubtator_results[pubtator_results.type == 'list']['answers'].apply(lambda x: len(x)).value_counts()\n",
    "# pubtator_results[pubtator_results.type == 'factoid'].answers"
   ]
  },
  {
   "cell_type": "code",
   "execution_count": 72,
   "metadata": {},
   "outputs": [
    {
     "data": {
      "text/plain": [
       "(u'Which disease is treated with lucinactant?',\n",
       " ['neonates', 'oxygenation', 'rds.', 'rds', 'b.'],\n",
       " [u'respiratory distress syndrome'])"
      ]
     },
     "execution_count": 72,
     "metadata": {},
     "output_type": "execute_result"
    }
   ],
   "source": [
    "qid = 2232\n",
    "# qid = 2238\n",
    "q = data.questions[qid]\n",
    "q.question, q.exact_answer, q.exact_answer_ref"
   ]
  }
 ],
 "metadata": {
  "kernelspec": {
   "display_name": "Python 2",
   "language": "python",
   "name": "python2"
  },
  "language_info": {
   "codemirror_mode": {
    "name": "ipython",
    "version": 2
   },
   "file_extension": ".py",
   "mimetype": "text/x-python",
   "name": "python",
   "nbconvert_exporter": "python",
   "pygments_lexer": "ipython2",
   "version": "2.7.14"
  }
 },
 "nbformat": 4,
 "nbformat_minor": 2
}
