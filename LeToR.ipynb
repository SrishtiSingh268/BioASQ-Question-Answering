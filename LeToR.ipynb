{
 "cells": [
  {
   "cell_type": "code",
   "execution_count": 1,
   "metadata": {},
   "outputs": [],
   "source": [
    "import numpy as np\n",
    "from dataLoader import DataLoader"
   ]
  },
  {
   "cell_type": "code",
   "execution_count": 2,
   "metadata": {},
   "outputs": [
    {
     "name": "stdout",
     "output_type": "stream",
     "text": [
      "Loading ner entities from file: nerCache/BioASQ-trainingDataset6b.json\n"
     ]
    }
   ],
   "source": [
    "input_path = 'input/BioASQ-trainingDataset6b.json'\n",
    "data = DataLoader(input_path)\n",
    "data.load_ner_entities()"
   ]
  },
  {
   "cell_type": "code",
   "execution_count": 3,
   "metadata": {},
   "outputs": [],
   "source": [
    "run retrieval_model.py"
   ]
  },
  {
   "cell_type": "code",
   "execution_count": 4,
   "metadata": {},
   "outputs": [],
   "source": [
    "q = data[0]\n",
    "scores = {}\n",
    "for sentence, score in get_ranked_sentences(q.question, q.snippet_sentences, 'BM25'):\n",
    "    scores[sentence] = score\n",
    "for sentence, score in get_ranked_sentences(q.question, q.snippet_sentences, 'Indri'):\n",
    "    scores[sentence] = [scores[sentence], score]"
   ]
  },
  {
   "cell_type": "code",
   "execution_count": 5,
   "metadata": {},
   "outputs": [
    {
     "data": {
      "text/plain": [
       "(15, 20)"
      ]
     },
     "execution_count": 5,
     "metadata": {},
     "output_type": "execute_result"
    }
   ],
   "source": [
    "len(np.unique(q.snippet_sentences).tolist()), len(q.snippet_sentences)"
   ]
  },
  {
   "cell_type": "code",
   "execution_count": 6,
   "metadata": {},
   "outputs": [
    {
     "data": {
      "text/plain": [
       "15"
      ]
     },
     "execution_count": 6,
     "metadata": {},
     "output_type": "execute_result"
    }
   ],
   "source": [
    "len(get_ranked_sentences(q.question, q.snippet_sentences, 'BM25'))"
   ]
  },
  {
   "cell_type": "code",
   "execution_count": 7,
   "metadata": {},
   "outputs": [
    {
     "data": {
      "text/plain": [
       "[{'BM25': 2.3188813786746474,\n",
       "  'Indri': 0.41422164245653387,\n",
       "  'text': 'Hirschsprung disease (HSCR) is a multifactorial, non-mendelian disorder in which rare high-penetrance coding sequence mutations in the receptor tyrosine kinase RET contribute to risk in combination with mutations at other genes'},\n",
       " {'BM25': 1.9989343890926352,\n",
       "  'Indri': 0.41446496181644588,\n",
       "  'text': \"Chromosomal and related Mendelian syndromes associated with Hirschsprung's disease\"},\n",
       " {'BM25': 1.9633290741310481,\n",
       "  'Indri': 0.41442363788439585,\n",
       "  'text': \"The majority of the identified genes are related to Mendelian syndromic forms of Hirschsprung's disease\"},\n",
       " {'BM25': 1.8805000486638965,\n",
       "  'Indri': 0.41432047225542812,\n",
       "  'text': \"In this study, we review the identification of genes and loci involved in the non-syndromic common form and syndromic Mendelian forms of Hirschsprung's disease\"},\n",
       " {'BM25': 1.6718072220029261,\n",
       "  'Indri': 0.41425099990895259,\n",
       "  'text': 'On the basis of a skewed sex-ratio (M/F = 4/1) and a risk to relatives much higher than the incidence in the general population, HSCR has long been regarded as a sex-modified multifactorial disorder'},\n",
       " {'BM25': 1.3234251081468247,\n",
       "  'Indri': 0.41436994015140299,\n",
       "  'text': 'The inheritance of Hirschsprung disease is generally consistent with sex-modified multifactorial inheritance with a lower threshold of expression in males'},\n",
       " {'BM25': 1.3234251081468247,\n",
       "  'Indri': 0.41436994015140299,\n",
       "  'text': 'Differential contributions of rare and common, coding and noncoding Ret mutations to multifactorial Hirschsprung disease liability'},\n",
       " {'BM25': 1.2890396212514479,\n",
       "  'Indri': 0.4142462796143479,\n",
       "  'text': 'BACKGROUND: RET is the major gene associated to Hirschsprung disease (HSCR) with differential contributions of its rare and common, coding and noncoding mutations to the multifactorial nature of this pathology'},\n",
       " {'BM25': 1.2617502356015806,\n",
       "  'Indri': 0.41414345483969089,\n",
       "  'text': 'In the etiology of Hirschsprung disease various genes play a role; these are: RET, EDNRB, GDNF, EDN3 and SOX10, NTN3, ECE1, Mutations in these genes may result in dominant, recessive or multifactorial patterns of inheritance'},\n",
       " {'BM25': 1.0692021235555718,\n",
       "  'Indri': 0.41426332653579195,\n",
       "  'text': 'Therefore, HSCR has become a model for a complex oligo-/polygenic disorder in which the relationship between different genes creating a non-mendelian inheritance pattern still remains to be elucidated'},\n",
       " {'BM25': 0.68444082882372492,\n",
       "  'Indri': 0.41429980583113057,\n",
       "  'text': \"The non-Mendelian inheritance of sporadic non-syndromic Hirschsprung's disease proved to be complex; involvement of multiple loci was demonstrated in a multiplicative model\"},\n",
       " {'BM25': 0,\n",
       "  'Indri': 0.41451516099191971,\n",
       "  'text': 'Coding sequence mutations in e.g'},\n",
       " {'BM25': 0,\n",
       "  'Indri': 0.41432922445644788,\n",
       "  'text': 'For almost all of the identified HSCR genes incomplete penetrance of the HSCR phenotype has been reported, probably due to modifier loci'},\n",
       " {'BM25': 0,\n",
       "  'Indri': 0.41420563723143611,\n",
       "  'text': 'RET, GDNF, EDNRB, EDN3, and SOX10 lead to long-segment (L-HSCR) as well as syndromic HSCR but fail to explain the transmission of the much more common short-segment form (S-HSCR)'},\n",
       " {'BM25': 0,\n",
       "  'Indri': 0.41402080943937636,\n",
       "  'text': 'Furthermore, mutations in the RET gene are responsible for approximately half of the familial and some sporadic cases, strongly suggesting, on the one hand, the importance of non-coding variations and, on the other hand, that additional genes involved in the development of the enteric nervous system still await their discovery'}]"
      ]
     },
     "execution_count": 7,
     "metadata": {},
     "output_type": "execute_result"
    }
   ],
   "source": [
    "q.ranked_sentences()"
   ]
  },
  {
   "cell_type": "code",
   "execution_count": 8,
   "metadata": {},
   "outputs": [],
   "source": [
    "import constants as C"
   ]
  },
  {
   "cell_type": "code",
   "execution_count": 12,
   "metadata": {},
   "outputs": [
    {
     "data": {
      "text/plain": [
       "[{'BM25': 0.34542751083360856,\n",
       "  'Indri': 0.19294133515825904,\n",
       "  'text': 'Acrokeratosis paraneoplastica of Bazex'},\n",
       " {'BM25': 0.34431997105739548,\n",
       "  'Indri': 0.19293169932806986,\n",
       "  'text': 'Bazex syndrome: acrokeratosis paraneoplastica'},\n",
       " {'BM25': 0.34431997105739548,\n",
       "  'Indri': 0.19293169932806986,\n",
       "  'text': 'Acrokeratosis paraneoplastica: Bazex syndrome'},\n",
       " {'BM25': 0.34431997105739548,\n",
       "  'Indri': 0.19293169932806986,\n",
       "  'text': \"Acrokeratosis paraneoplastica (Bazex' syndrome)\"},\n",
       " {'BM25': 0.34212613889472798,\n",
       "  'Indri': 0.1929124392168288,\n",
       "  'text': 'We diagnosed a minor form of acrokeratosis paraneoplastica Bazex'},\n",
       " {'BM25': 0.34103971061298166,\n",
       "  'Indri': 0.19290281493116371,\n",
       "  'text': \"Acrokeratosis paraneoplastica (Bazex's syndrome): association with liposarcoma\"},\n",
       " {'BM25': 0.33996018504925696,\n",
       "  'Indri': 0.19289319448906314,\n",
       "  'text': 'Acrokeratosis paraneoplastica of Bazex: report of a case in a young black woman'},\n",
       " {'BM25': 0.33996018504925696,\n",
       "  'Indri': 0.19289319448906314,\n",
       "  'text': 'Acrokeratosis paraneoplastica Bazex syndrome associated with esophageal squamocellular carcinoma'},\n",
       " {'BM25': 0.33996018504925696,\n",
       "  'Indri': 0.19289319448906314,\n",
       "  'text': 'Acrokeratosis paraneoplastica (Bazex syndrome) with oropharyngeal squamous cell carcinoma'},\n",
       " {'BM25': 0.33888749640780835,\n",
       "  'Indri': 0.19288357788822519,\n",
       "  'text': 'Acrokeratosis paraneoplastica of Bazex as an indicator for underlying squamous cell carcinoma of the lung'},\n",
       " {'BM25': 0.33782157972902022,\n",
       "  'Indri': 0.19287396512634961,\n",
       "  'text': 'Acrokeratosis paraneoplastica was found in a 53-year-old black man with squamous cell carcinoma of the tonsil'},\n",
       " {'BM25': 0.33782157972902022,\n",
       "  'Indri': 0.19287396512634961,\n",
       "  'text': 'Acrokeratosis paraneoplastica Bazex is a rare, obligate paraneoplasia initially presenting with palmoplantar hyperkeratosis'},\n",
       " {'BM25': 0.33570980652219956,\n",
       "  'Indri': 0.19285475111029421,\n",
       "  'text': 'Bazex syndrome (acrokeratosis paraneoplastica): persistence of cutaneous lesions after successful treatment of an associated oropharyngeal neoplasm'},\n",
       " {'BM25': 0.33466382413734652,\n",
       "  'Indri': 0.19284514985152326,\n",
       "  'text': 'Acrokeratosis paraneoplastica of Bazex is a rare but important paraneoplastic dermatosis, usually manifesting as psoriasiform rashes over the acral sites'},\n",
       " {'BM25': 0.33466382413734652,\n",
       "  'Indri': 0.19284514985152326,\n",
       "  'text': 'Acrokeratosis paraneoplastica (Bazex syndrome): report of a case associated with small cell lung carcinoma and review of the literature'},\n",
       " {'BM25': 0.32752115176393753,\n",
       "  'Indri': 0.19277804814580207,\n",
       "  'text': 'Acrokeratosis paraneoplastica (first described by Gougerot and Rupp in 1922) was named after Bazex who had then reported several cases in a French dermatological journal since 1965 (Bazex et al'},\n",
       " {'BM25': 0.32553623265491116,\n",
       "  'Indri': 0.19275891058815398,\n",
       "  'text': 'BACKGROUND: Acrokeratosis paraneoplastica Bazex (APB) is a very rare disease in the group of obligate paraneoplastic dermatoses, associated mostly with squamous cell carcinoma of the upper aerodigestive tract and metastatic cervical lymphadenopathy'},\n",
       " {'BM25': 0.32260370328351007,\n",
       "  'Indri': 0.19273023281520066,\n",
       "  'text': 'Acrokeratosis paraneoplastica (Bazex&apos; syndrome) is a rare but clinically distinctive dermatosis that has been associated in all reported cases, to our knowledge, with either a primary malignant neoplasm of the upper aerodigestive tract or metastatic cancer to the lymph nodes of the neck'},\n",
       " {'BM25': 0.3043309172219566,\n",
       "  'Indri': 0.19254528218062469,\n",
       "  'text': 'Bazex syndrome (acrokeratosis paraneoplastica) is a rare paraneoplastic syndrome that usually occurs in males over 40 years old and is particularly associated with squamous cell carcinoma of the upper aerodigestive tract and adenopathy above the diaphragm.The objectives of our article are (1) to describe a unique case of acrokeratosis paraneoplastica and (2) to review the current literature regarding skin findings, commonly associated neoplasms, and treatment options relative to this condition'},\n",
       " {'BM25': 0.1024957282230214,\n",
       "  'Indri': 0.19291917579444998,\n",
       "  'text': 'Minor form of acrokeratosis neoplastica Bazex?'},\n",
       " {'BM25': 0.0982226000052695,\n",
       "  'Indri': 0.19277516523192997,\n",
       "  'text': 'Acrokeratosis paraneoplastic (Bazex syndrome) is a rare, but distinctive paraneoplastic dermatosis characterized by erythematosquamous lesions located at the acral sites and is most commonly associated with carcinomas of the upper aerodigestive tract'},\n",
       " {'BM25': 0.089288572591378262,\n",
       "  'Indri': 0.19243302621353595,\n",
       "  'text': 'in Bull Soc Fr Dermatol Syphiligr 72:182, 1965; Bazex and Griffiths in Br J Dermatol 102:301-306, 1980).METHOD: The study is a clinical case of a patient with acrokeratosis paraneoplastica.RESULTS: the patient was later diagnosed with a cervical lymph node metastasis and thereafter with a primary squamous cell carcinoma of the left upper lobe and upon treatment responded with the clearing of the skin changes.CONCLUSION: Identification of a paraneoplastic syndrome may enhance the earlier diagnosis of the associated tumor and may thus enable curative treatment'},\n",
       " {'BM25': 0, 'Indri': 0.19296485444573197, 'text': ']'},\n",
       " {'BM25': 0,\n",
       "  'Indri': 0.19293592707398818,\n",
       "  'text': '[Paraneoplastic palmoplantar hyperkeratosis'}]"
      ]
     },
     "execution_count": 12,
     "metadata": {},
     "output_type": "execute_result"
    }
   ],
   "source": [
    "data.get_questions_of_type(C.FACTOID_TYPE)[0].ranked_sentences()"
   ]
  },
  {
   "cell_type": "code",
   "execution_count": 16,
   "metadata": {},
   "outputs": [],
   "source": [
    "def overlap_score(entity1, entity2):\n",
    "    if entity1 == '':\n",
    "        return 0.0\n",
    "    words1 = entity1.split(' ')\n",
    "    words2 = entity2.split(' ')\n",
    "    return float(len(set(words1).intersection(set(words2)))) / float(len(set(words1)))\n",
    "\n",
    "def gold_candidate_rank(candidates, gold_answers):\n",
    "    scores = []\n",
    "    candidates = [candidate[C.ENTITY] for candidate in candidates]\n",
    "    for candidate in candidates:\n",
    "        score = np.array([overlap_score(candidate, answer) for answer in gold_answers]).max()\n",
    "        scores.append((score, candidate))\n",
    "    ranks = {}\n",
    "    scores = sorted(scores, reverse=True)\n",
    "    for rank, (score, candidate) in enumerate(scores):\n",
    "        ranks[candidate] = rank\n",
    "    return [ranks[candidate] for candidate in candidates]\n",
    "\n",
    "def get_features(question, ranked_sentences):\n",
    "    candidates = question.snippet_ner_entities\n",
    "    X = np.array([factoid_letor_features.all_features(question.question, ranked_sentences, candidate) for candidate in candidates])\n",
    "    y = gold_candidate_rank(candidates, question.exact_answer_ref)\n",
    "    return X.tolist(), y"
   ]
  },
  {
   "cell_type": "code",
   "execution_count": 2,
   "metadata": {},
   "outputs": [],
   "source": [
    "from dataLoader import DataLoader\n",
    "import constants as C\n",
    "import factoid_letor_features\n",
    "import numpy as np\n",
    "import json"
   ]
  },
  {
   "cell_type": "code",
   "execution_count": 3,
   "metadata": {},
   "outputs": [
    {
     "name": "stdout",
     "output_type": "stream",
     "text": [
      "Loading ner entities from file: nerCache/BioASQ-trainingDataset6b.json\n"
     ]
    }
   ],
   "source": [
    "file_name = 'input/BioASQ-trainingDataset6b.json'\n",
    "data = DataLoader(file_name)\n",
    "data.load_ner_entities()\n",
    "questions = data.get_questions_of_type(C.FACTOID_TYPE)"
   ]
  },
  {
   "cell_type": "code",
   "execution_count": 4,
   "metadata": {},
   "outputs": [
    {
     "data": {
      "text/plain": [
       "{u'entity': u'neoplasia', u'source': u'PubTator', u'type': u'Disease'}"
      ]
     },
     "execution_count": 4,
     "metadata": {},
     "output_type": "execute_result"
    }
   ],
   "source": [
    "q = questions[0]\n",
    "entity = q.snippet_ner_entities[1]\n",
    "entity"
   ]
  },
  {
   "cell_type": "code",
   "execution_count": 5,
   "metadata": {},
   "outputs": [],
   "source": [
    "ranked_sentences = q.ranked_sentences()\n",
    "X, y = get_features(q, ranked_sentences)"
   ]
  },
  {
   "cell_type": "code",
   "execution_count": 22,
   "metadata": {},
   "outputs": [
    {
     "data": {
      "text/plain": [
       "1.0"
      ]
     },
     "execution_count": 22,
     "metadata": {},
     "output_type": "execute_result"
    }
   ],
   "source": [
    "overlap_score('Gaeb is is', 'is')"
   ]
  },
  {
   "cell_type": "code",
   "execution_count": null,
   "metadata": {},
   "outputs": [],
   "source": []
  }
 ],
 "metadata": {
  "kernelspec": {
   "display_name": "Python 2",
   "language": "python",
   "name": "python2"
  },
  "language_info": {
   "codemirror_mode": {
    "name": "ipython",
    "version": 2
   },
   "file_extension": ".py",
   "mimetype": "text/x-python",
   "name": "python",
   "nbconvert_exporter": "python",
   "pygments_lexer": "ipython2",
   "version": "2.7.14"
  }
 },
 "nbformat": 4,
 "nbformat_minor": 2
}
