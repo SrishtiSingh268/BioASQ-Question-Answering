{
 "cells": [
  {
   "cell_type": "code",
   "execution_count": 1,
   "metadata": {},
   "outputs": [],
   "source": [
    "import numpy as np\n",
    "from dataLoader import DataLoader"
   ]
  },
  {
   "cell_type": "code",
   "execution_count": 8,
   "metadata": {},
   "outputs": [
    {
     "name": "stdout",
     "output_type": "stream",
     "text": [
      "Loading ner entities from file: nerCache/BioASQ-trainingDataset6b.json\n"
     ]
    }
   ],
   "source": [
    "input_path = 'input/BioASQ-trainingDataset6b.json'\n",
    "data = DataLoader(input_path)\n",
    "data.load_ner_entities()"
   ]
  },
  {
   "cell_type": "code",
   "execution_count": 12,
   "metadata": {},
   "outputs": [],
   "source": [
    "run retrieval_model.py"
   ]
  },
  {
   "cell_type": "code",
   "execution_count": 15,
   "metadata": {},
   "outputs": [
    {
     "data": {
      "text/plain": [
       "{' Hirschsprung disease (HSCR) is a multifactorial, non-mendelian disorder in which rare high-penetrance coding sequence mutations in the receptor tyrosine kinase RET contribute to risk in combination with mutations at other genes.': [2.3623128760191592,\n",
       "  0.40553638736143094],\n",
       " ' The inheritance of Hirschsprung disease is generally consistent with sex-modified multifactorial inheritance with a lower threshold of expression in males.': [1.3307799233511668,\n",
       "  0.40568076703924122],\n",
       " 'BACKGROUND: RET is the major gene associated to Hirschsprung disease (HSCR) with differential contributions of its rare and common, coding and noncoding mutations to the multifactorial nature of this pathology.': [1.2967143101718408,\n",
       "  0.40555969945886305],\n",
       " \"Chromosomal and related Mendelian syndromes associated with Hirschsprung's disease.\": [2.0016907013757188,\n",
       "  0.40577440395555786],\n",
       " 'Coding sequence mutations in e.g.': [0, 0.40582276906991932],\n",
       " 'Differential contributions of rare and common, coding and noncoding Ret mutations to multifactorial Hirschsprung disease liability.': [1.3307799233511668,\n",
       "  0.40568076703924122],\n",
       " 'For almost all of the identified HSCR genes incomplete penetrance of the HSCR phenotype has been reported, probably due to modifier loci.': [0,\n",
       "  0.40564073162763159],\n",
       " 'Furthermore, mutations in the RET gene are responsible for approximately half of the familial and some sporadic cases, strongly suggesting, on the one hand, the importance of non-coding variations and, on the other hand, that additional genes involved in the development of the enteric nervous system still await their discovery': [0,\n",
       "  0.40533878408016144],\n",
       " 'Hirschsprung disease (HSCR) is a multifactorial, non-mendelian disorder in which rare high-penetrance coding sequence mutations in the receptor tyrosine kinase RET contribute to risk in combination with mutations at other genes': [2.3623128760191592,\n",
       "  0.40553638736143094],\n",
       " 'Hirschsprung disease (HSCR) is a multifactorial, non-mendelian disorder in which rare high-penetrance coding sequence mutations in the receptor tyrosine kinase RET contribute to risk in combination with mutations at other genes.': [2.3623128760191592,\n",
       "  0.40553638736143094],\n",
       " 'In the etiology of Hirschsprung disease various genes play a role; these are: RET, EDNRB, GDNF, EDN3 and SOX10, NTN3, ECE1, Mutations in these genes may result in dominant, recessive or multifactorial patterns of inheritance': [1.2696714384112102,\n",
       "  0.40545903074945],\n",
       " 'In the etiology of Hirschsprung disease various genes play a role; these are: RET, EDNRB, GDNF, EDN3 and SOX10, NTN3, ECE1, Mutations in these genes may result in dominant, recessive or multifactorial patterns of inheritance.': [1.2696714384112102,\n",
       "  0.40545903074945],\n",
       " \"In this study, we review the identification of genes and loci involved in the non-syndromic common form and syndromic Mendelian forms of Hirschsprung's disease.\": [1.8820309030400222,\n",
       "  0.40563294325329491],\n",
       " 'On the basis of a skewed sex-ratio (M/F = 4/1) and a risk to relatives much higher than the incidence in the general population, HSCR has long been regarded as a sex-modified multifactorial disorder': [1.7490821988176144,\n",
       "  0.40556536066193238],\n",
       " 'RET, GDNF, EDNRB, EDN3, and SOX10 lead to long-segment (L-HSCR) as well as syndromic HSCR but fail to explain the transmission of the much more common short-segment form (S-HSCR).': [0,\n",
       "  0.40551973602941044],\n",
       " 'The inheritance of Hirschsprung disease is generally consistent with sex-modified multifactorial inheritance with a lower threshold of expression in males': [1.3307799233511668,\n",
       "  0.40568076703924122],\n",
       " \"The majority of the identified genes are related to Mendelian syndromic forms of Hirschsprung's disease\": [1.9656941000395873,\n",
       "  0.40573394627538445],\n",
       " \"The majority of the identified genes are related to Mendelian syndromic forms of Hirschsprung's disease.\": [1.9656941000395873,\n",
       "  0.40573394627538445],\n",
       " \"The non-Mendelian inheritance of sporadic non-syndromic Hirschsprung's disease proved to be complex; involvement of multiple loci was demonstrated in a multiplicative model\": [0.65037314186828976,\n",
       "  0.40561169866999158],\n",
       " 'Therefore, HSCR has become a model for a complex oligo-/polygenic disorder in which the relationship between different genes creating a non-mendelian inheritance pattern still remains to be elucidated': [1.1058910276606364,\n",
       "  0.40557702451245464]}"
      ]
     },
     "execution_count": 15,
     "metadata": {},
     "output_type": "execute_result"
    }
   ],
   "source": [
    "q = data[0]\n",
    "scores = {}\n",
    "for sentence, score in get_ranked_sentences(q.question, q.snippet_sentences, 'BM25'):\n",
    "    scores[sentence] = score\n",
    "for sentence, score in get_ranked_sentences(q.question, q.snippet_sentences, 'Indri'):\n",
    "    scores[sentence] = [scores[sentence], score]\n",
    "scores"
   ]
  },
  {
   "cell_type": "code",
   "execution_count": 18,
   "metadata": {},
   "outputs": [
    {
     "data": {
      "text/plain": [
       "(20, 21)"
      ]
     },
     "execution_count": 18,
     "metadata": {},
     "output_type": "execute_result"
    }
   ],
   "source": [
    "len(np.unique(q.snippet_sentences).tolist()), len(q.snippet_sentences)"
   ]
  },
  {
   "cell_type": "code",
   "execution_count": 19,
   "metadata": {},
   "outputs": [
    {
     "data": {
      "text/plain": [
       "20"
      ]
     },
     "execution_count": 19,
     "metadata": {},
     "output_type": "execute_result"
    }
   ],
   "source": [
    "len(get_ranked_sentences(q.question, q.snippet_sentences, 'BM25'))"
   ]
  },
  {
   "cell_type": "code",
   "execution_count": null,
   "metadata": {},
   "outputs": [],
   "source": []
  }
 ],
 "metadata": {
  "kernelspec": {
   "display_name": "Python 2",
   "language": "python",
   "name": "python2"
  },
  "language_info": {
   "codemirror_mode": {
    "name": "ipython",
    "version": 2
   },
   "file_extension": ".py",
   "mimetype": "text/x-python",
   "name": "python",
   "nbconvert_exporter": "python",
   "pygments_lexer": "ipython2",
   "version": "2.7.14"
  }
 },
 "nbformat": 4,
 "nbformat_minor": 2
}
