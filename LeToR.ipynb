{
 "cells": [
  {
   "cell_type": "code",
   "execution_count": 1,
   "metadata": {},
   "outputs": [],
   "source": [
    "import numpy as np\n",
    "from dataLoader import DataLoader"
   ]
  },
  {
   "cell_type": "code",
   "execution_count": 2,
   "metadata": {},
   "outputs": [
    {
     "name": "stdout",
     "output_type": "stream",
     "text": [
      "Loading ner entities from file: nerCache/BioASQ-trainingDataset6b.json\n"
     ]
    }
   ],
   "source": [
    "input_path = 'input/BioASQ-trainingDataset6b.json'\n",
    "data = DataLoader(input_path)\n",
    "data.load_ner_entities()"
   ]
  },
  {
   "cell_type": "code",
   "execution_count": 3,
   "metadata": {},
   "outputs": [],
   "source": [
    "run retrieval_model.py"
   ]
  },
  {
   "cell_type": "code",
   "execution_count": 4,
   "metadata": {},
   "outputs": [],
   "source": [
    "q = data[0]\n",
    "scores = {}\n",
    "for sentence, score in get_ranked_sentences(q.question, q.snippet_sentences, 'BM25'):\n",
    "    scores[sentence] = score\n",
    "for sentence, score in get_ranked_sentences(q.question, q.snippet_sentences, 'Indri'):\n",
    "    scores[sentence] = [scores[sentence], score]"
   ]
  },
  {
   "cell_type": "code",
   "execution_count": 5,
   "metadata": {},
   "outputs": [
    {
     "data": {
      "text/plain": [
       "(15, 20)"
      ]
     },
     "execution_count": 5,
     "metadata": {},
     "output_type": "execute_result"
    }
   ],
   "source": [
    "len(np.unique(q.snippet_sentences).tolist()), len(q.snippet_sentences)"
   ]
  },
  {
   "cell_type": "code",
   "execution_count": 6,
   "metadata": {},
   "outputs": [
    {
     "data": {
      "text/plain": [
       "15"
      ]
     },
     "execution_count": 6,
     "metadata": {},
     "output_type": "execute_result"
    }
   ],
   "source": [
    "len(get_ranked_sentences(q.question, q.snippet_sentences, 'BM25'))"
   ]
  },
  {
   "cell_type": "code",
   "execution_count": 7,
   "metadata": {},
   "outputs": [
    {
     "data": {
      "text/plain": [
       "[{'BM25': 2.3188813786746474,\n",
       "  'Indri': 0.41422164245653387,\n",
       "  'text': 'Hirschsprung disease (HSCR) is a multifactorial, non-mendelian disorder in which rare high-penetrance coding sequence mutations in the receptor tyrosine kinase RET contribute to risk in combination with mutations at other genes'},\n",
       " {'BM25': 1.9989343890926352,\n",
       "  'Indri': 0.41446496181644588,\n",
       "  'text': \"Chromosomal and related Mendelian syndromes associated with Hirschsprung's disease\"},\n",
       " {'BM25': 1.9633290741310481,\n",
       "  'Indri': 0.41442363788439585,\n",
       "  'text': \"The majority of the identified genes are related to Mendelian syndromic forms of Hirschsprung's disease\"},\n",
       " {'BM25': 1.8805000486638965,\n",
       "  'Indri': 0.41432047225542812,\n",
       "  'text': \"In this study, we review the identification of genes and loci involved in the non-syndromic common form and syndromic Mendelian forms of Hirschsprung's disease\"},\n",
       " {'BM25': 1.6718072220029261,\n",
       "  'Indri': 0.41425099990895259,\n",
       "  'text': 'On the basis of a skewed sex-ratio (M/F = 4/1) and a risk to relatives much higher than the incidence in the general population, HSCR has long been regarded as a sex-modified multifactorial disorder'},\n",
       " {'BM25': 1.3234251081468247,\n",
       "  'Indri': 0.41436994015140299,\n",
       "  'text': 'The inheritance of Hirschsprung disease is generally consistent with sex-modified multifactorial inheritance with a lower threshold of expression in males'},\n",
       " {'BM25': 1.3234251081468247,\n",
       "  'Indri': 0.41436994015140299,\n",
       "  'text': 'Differential contributions of rare and common, coding and noncoding Ret mutations to multifactorial Hirschsprung disease liability'},\n",
       " {'BM25': 1.2890396212514479,\n",
       "  'Indri': 0.4142462796143479,\n",
       "  'text': 'BACKGROUND: RET is the major gene associated to Hirschsprung disease (HSCR) with differential contributions of its rare and common, coding and noncoding mutations to the multifactorial nature of this pathology'},\n",
       " {'BM25': 1.2617502356015806,\n",
       "  'Indri': 0.41414345483969089,\n",
       "  'text': 'In the etiology of Hirschsprung disease various genes play a role; these are: RET, EDNRB, GDNF, EDN3 and SOX10, NTN3, ECE1, Mutations in these genes may result in dominant, recessive or multifactorial patterns of inheritance'},\n",
       " {'BM25': 1.0692021235555718,\n",
       "  'Indri': 0.41426332653579195,\n",
       "  'text': 'Therefore, HSCR has become a model for a complex oligo-/polygenic disorder in which the relationship between different genes creating a non-mendelian inheritance pattern still remains to be elucidated'},\n",
       " {'BM25': 0.68444082882372492,\n",
       "  'Indri': 0.41429980583113057,\n",
       "  'text': \"The non-Mendelian inheritance of sporadic non-syndromic Hirschsprung's disease proved to be complex; involvement of multiple loci was demonstrated in a multiplicative model\"},\n",
       " {'BM25': 0,\n",
       "  'Indri': 0.41451516099191971,\n",
       "  'text': 'Coding sequence mutations in e.g'},\n",
       " {'BM25': 0,\n",
       "  'Indri': 0.41432922445644788,\n",
       "  'text': 'For almost all of the identified HSCR genes incomplete penetrance of the HSCR phenotype has been reported, probably due to modifier loci'},\n",
       " {'BM25': 0,\n",
       "  'Indri': 0.41420563723143611,\n",
       "  'text': 'RET, GDNF, EDNRB, EDN3, and SOX10 lead to long-segment (L-HSCR) as well as syndromic HSCR but fail to explain the transmission of the much more common short-segment form (S-HSCR)'},\n",
       " {'BM25': 0,\n",
       "  'Indri': 0.41402080943937636,\n",
       "  'text': 'Furthermore, mutations in the RET gene are responsible for approximately half of the familial and some sporadic cases, strongly suggesting, on the one hand, the importance of non-coding variations and, on the other hand, that additional genes involved in the development of the enteric nervous system still await their discovery'}]"
      ]
     },
     "execution_count": 7,
     "metadata": {},
     "output_type": "execute_result"
    }
   ],
   "source": [
    "q.ranked_sentences()"
   ]
  },
  {
   "cell_type": "code",
   "execution_count": null,
   "metadata": {},
   "outputs": [],
   "source": []
  }
 ],
 "metadata": {
  "kernelspec": {
   "display_name": "Python 2",
   "language": "python",
   "name": "python2"
  },
  "language_info": {
   "codemirror_mode": {
    "name": "ipython",
    "version": 2
   },
   "file_extension": ".py",
   "mimetype": "text/x-python",
   "name": "python",
   "nbconvert_exporter": "python",
   "pygments_lexer": "ipython2",
   "version": "2.7.14"
  }
 },
 "nbformat": 4,
 "nbformat_minor": 2
}
