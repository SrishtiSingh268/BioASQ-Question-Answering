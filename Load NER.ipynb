{
 "cells": [
  {
   "cell_type": "code",
   "execution_count": 1,
   "metadata": {},
   "outputs": [],
   "source": [
    "import json\n",
    "import numpy as np\n",
    "import pandas as pd"
   ]
  },
  {
   "cell_type": "code",
   "execution_count": 2,
   "metadata": {},
   "outputs": [],
   "source": [
    "from dataLoader import DataLoader\n",
    "\n",
    "input_path = 'input/BioASQ-trainingDataset6b.json'\n",
    "data = DataLoader(input_path)"
   ]
  },
  {
   "cell_type": "code",
   "execution_count": 3,
   "metadata": {},
   "outputs": [
    {
     "name": "stderr",
     "output_type": "stream",
     "text": [
      "\r",
      "  0%|          | 0/50 [00:00<?, ?it/s]"
     ]
    },
    {
     "name": "stdout",
     "output_type": "stream",
     "text": [
      "Loading PubTator entiies..\n"
     ]
    },
    {
     "name": "stderr",
     "output_type": "stream",
     "text": [
      "100%|██████████| 50/50 [00:26<00:00,  1.91it/s]\n",
      "  0%|          | 0/50 [00:00<?, ?it/s]"
     ]
    },
    {
     "name": "stdout",
     "output_type": "stream",
     "text": [
      "Failed to load PubTator entities for 0 questions\n",
      "Finished loading PubTator entiies..\n",
      "Loading Lingpipe entiies..\n"
     ]
    },
    {
     "name": "stderr",
     "output_type": "stream",
     "text": [
      "100%|██████████| 50/50 [00:53<00:00,  1.07s/it]"
     ]
    },
    {
     "name": "stdout",
     "output_type": "stream",
     "text": [
      "Failed to load Lingpipe entities for 0 questions\n",
      "Finished loading Lingpipe entiies..\n",
      "Saving ner entities to file: nerCache/BioASQ-trainingDataset6b.json\n"
     ]
    },
    {
     "name": "stderr",
     "output_type": "stream",
     "text": [
      "\n"
     ]
    }
   ],
   "source": [
    "data.load_ner_entities()"
   ]
  },
  {
   "cell_type": "code",
   "execution_count": 4,
   "metadata": {},
   "outputs": [
    {
     "name": "stdout",
     "output_type": "stream",
     "text": [
      "Loading ner entities from file: nerCache/BioASQ-trainingDataset6b.json\n"
     ]
    }
   ],
   "source": [
    "# Test if the next load is cached\n",
    "\n",
    "data.load_ner_entities()"
   ]
  },
  {
   "cell_type": "code",
   "execution_count": 23,
   "metadata": {},
   "outputs": [
    {
     "data": {
      "text/plain": [
       "(1,\n",
       " u'List signaling molecules (ligands) that interact with the receptor EGFR?')"
      ]
     },
     "execution_count": 23,
     "metadata": {},
     "output_type": "execute_result"
    }
   ],
   "source": [
    "q1 = data.questions[1]\n",
    "q1.qid, q1.question"
   ]
  },
  {
   "cell_type": "code",
   "execution_count": 14,
   "metadata": {},
   "outputs": [
    {
     "data": {
      "text/plain": [
       "u'the epidermal growth factor receptor (EGFR) ligands, such as epidermal growth factor (EGF) and amphiregulin (AREG)'"
      ]
     },
     "execution_count": 14,
     "metadata": {},
     "output_type": "execute_result"
    }
   ],
   "source": [
    "q1.snippets[0].text"
   ]
  },
  {
   "cell_type": "code",
   "execution_count": 19,
   "metadata": {},
   "outputs": [
    {
     "data": {
      "text/plain": [
       "[{u'entity': u'uo126', u'type': u'Chemical'},\n",
       " {u'entity': u'amphiregulin', u'type': u'ORGANIZATION'},\n",
       " {u'entity': u'malignant peripheral nerve sheath tumor', u'type': u'Disease'},\n",
       " {u'entity': u'cholangiocarcinoma', u'type': u'Disease'},\n",
       " {u'entity': u'pepd', u'type': u'Gene'},\n",
       " {u'entity': u'egf receptor', u'type': u'Gene'},\n",
       " {u'entity': u'human', u'type': u'Species'},\n",
       " {u'entity': u'epidermal growth factor', u'type': u'Gene'},\n",
       " {u'entity': u'asthma', u'type': u'Disease'},\n",
       " {u'entity': u'egf>hb-egf>tgf-\\u03b1>btc>epr>epg>ar. in', u'type': u'PERSON'}]"
      ]
     },
     "execution_count": 19,
     "metadata": {},
     "output_type": "execute_result"
    }
   ],
   "source": [
    "q1.ner_entities[:10]"
   ]
  },
  {
   "cell_type": "code",
   "execution_count": 20,
   "metadata": {},
   "outputs": [
    {
     "data": {
      "text/plain": [
       "[u'uo126',\n",
       " u'amphiregulin',\n",
       " u'malignant peripheral nerve sheath tumor',\n",
       " u'cholangiocarcinoma',\n",
       " u'pepd',\n",
       " u'egf receptor',\n",
       " u'human',\n",
       " u'epidermal growth factor',\n",
       " u'asthma',\n",
       " u'egf>hb-egf>tgf-\\u03b1>btc>epr>epg>ar. in']"
      ]
     },
     "execution_count": 20,
     "metadata": {},
     "output_type": "execute_result"
    }
   ],
   "source": [
    "q1.get_ner_entity_list()[:10]"
   ]
  },
  {
   "cell_type": "code",
   "execution_count": null,
   "metadata": {},
   "outputs": [],
   "source": []
  }
 ],
 "metadata": {
  "kernelspec": {
   "display_name": "Python 2",
   "language": "python",
   "name": "python2"
  },
  "language_info": {
   "codemirror_mode": {
    "name": "ipython",
    "version": 2
   },
   "file_extension": ".py",
   "mimetype": "text/x-python",
   "name": "python",
   "nbconvert_exporter": "python",
   "pygments_lexer": "ipython2",
   "version": "2.7.14"
  }
 },
 "nbformat": 4,
 "nbformat_minor": 2
}
