{
 "cells": [
  {
   "cell_type": "code",
   "execution_count": 34,
   "metadata": {},
   "outputs": [
    {
     "name": "stdout",
     "output_type": "stream",
     "text": [
      "/Users/nitish/Documents/Box Sync/cmu/acads/11797/bioasq\n"
     ]
    }
   ],
   "source": [
    "cd ~/acads/11797/bioasq/"
   ]
  },
  {
   "cell_type": "code",
   "execution_count": 35,
   "metadata": {},
   "outputs": [],
   "source": [
    "run dataLoader.py"
   ]
  },
  {
   "cell_type": "code",
   "execution_count": 36,
   "metadata": {},
   "outputs": [],
   "source": [
    "input_path = '/Users/nitish/Downloads/summary_BioASQ-task6bPhaseB-testset3.json'\n",
    "data = DataLoader(input_path)\n",
    "summary_ans_file = 'output/summary_BioASQ-task6bPhaseB-testset3.json'\n",
    "\n",
    "for q in data.questions:\n",
    "    q.ideal_answer = q.ideal_answer_ref\n",
    "\n",
    "data.save_ideal_answers(summary_ans_file)"
   ]
  },
  {
   "cell_type": "code",
   "execution_count": 37,
   "metadata": {},
   "outputs": [],
   "source": [
    "input_path = 'input/BioASQ-task6bPhaseB-testset3.json'\n",
    "output_path = 'input/submission_BioASQ-task6bPhaseB-testset3.json'\n",
    "data = DataLoader(input_path)\n",
    "\n",
    "yesno_ans_file = 'output/yesno_%s.json' % data.name\n",
    "factoid_list_ans_file = 'output/factoid_list_%s.json' % data.name\n",
    "summary_ans_file = 'output/summary_%s.json' % data.name"
   ]
  },
  {
   "cell_type": "code",
   "execution_count": 38,
   "metadata": {},
   "outputs": [],
   "source": [
    "data.load_answers_from_file(yesno_ans_file, True)\n",
    "data.load_answers_from_file(factoid_list_ans_file, True)\n",
    "data.load_answers_from_file(summary_ans_file, False)"
   ]
  },
  {
   "cell_type": "code",
   "execution_count": 45,
   "metadata": {},
   "outputs": [],
   "source": [
    "data.save_submission(input_path, output_path)"
   ]
  },
  {
   "cell_type": "code",
   "execution_count": null,
   "metadata": {},
   "outputs": [],
   "source": []
  }
 ],
 "metadata": {
  "kernelspec": {
   "display_name": "Python 2",
   "language": "python",
   "name": "python2"
  },
  "language_info": {
   "codemirror_mode": {
    "name": "ipython",
    "version": 2
   },
   "file_extension": ".py",
   "mimetype": "text/x-python",
   "name": "python",
   "nbconvert_exporter": "python",
   "pygments_lexer": "ipython2",
   "version": "2.7.14"
  }
 },
 "nbformat": 4,
 "nbformat_minor": 2
}
