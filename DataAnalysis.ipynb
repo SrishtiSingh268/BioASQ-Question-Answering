{
 "cells": [
  {
   "cell_type": "code",
   "execution_count": 1,
   "metadata": {},
   "outputs": [],
   "source": [
    "import json\n",
    "import pandas as pd\n",
    "import numpy as np"
   ]
  },
  {
   "cell_type": "code",
   "execution_count": 59,
   "metadata": {},
   "outputs": [],
   "source": [
    "from dataLoader import DataLoader\n",
    "\n",
    "input_path = 'input/BioASQ-trainingDataset6b.json'\n",
    "data = DataLoader(input_path)"
   ]
  },
  {
   "cell_type": "code",
   "execution_count": 60,
   "metadata": {},
   "outputs": [],
   "source": [
    "data = data.get_DF()\n",
    "data['n_snippets'] = data.snippets.apply(lambda x: len(x) if isinstance(x, list) else 0)\n",
    "data['n_documents'] = data.documents.apply(lambda x: len(x) if isinstance(x, list) else 0)"
   ]
  },
  {
   "cell_type": "code",
   "execution_count": 74,
   "metadata": {},
   "outputs": [],
   "source": [
    "yesno = data[data['type'] == 'yesno']\n",
    "factoid = data[data.type == 'factoid']\n",
    "listtype = data[data.type == 'list']\n",
    "summarytype = data[data.type == 'summary']"
   ]
  },
  {
   "cell_type": "code",
   "execution_count": 121,
   "metadata": {},
   "outputs": [
    {
     "data": {
      "text/plain": [
       "2                        Is the protein Papilin secreted?\n",
       "3                       Are long non coding RNAs spliced?\n",
       "4                       Is RANKL secreted from the cells?\n",
       "5          Does metformin interfere thyroxine absorption?\n",
       "8            Has Denosumab (Prolia) been approved by FDA?\n",
       "15      Is the monoclonal antibody Trastuzumab (Hercep...\n",
       "23              Are transcription and splicing connected?\n",
       "25      Is Alu hypomethylation associated with breast ...\n",
       "29      Proteomic analyses need prior knowledge of the...\n",
       "35             Do mutations of AKT1 occur in meningiomas?\n",
       "39         Does physical activity influence gut hormones?\n",
       "43      Is irritable bowel syndrome more common in wom...\n",
       "45      Does BNP increase after intensive exercise in ...\n",
       "47      Are there web based self management strategies...\n",
       "48                   Is Weaver syndrome similar to Sotos?\n",
       "50         Are ultraconserved elements often transcribed?\n",
       "52      Is peripheral neuroepithelioma related to Ewin...\n",
       "62      Is c-met involved in the activation of the Akt...\n",
       "63      Is pregnancy an additional risk during during ...\n",
       "64      Is there a crystal structure of Greek Goat Enc...\n",
       "65      Are long non coding RNAs as conserved in seque...\n",
       "69                     Is TENS machine effective in pain?\n",
       "70      Is there any algorithm for enhancer identifica...\n",
       "74      Are transcribed ultraconserved regions involve...\n",
       "76      Do patients with Pendred syndrome present cong...\n",
       "78             Is CD56 useful in Ewing sarcoma prognosis?\n",
       "81      Are there any urine biomarkers for chronic kid...\n",
       "86      Is valproic acid effective for glioblastoma tr...\n",
       "89      Can Levoxyl (levothyroxine sodium) cause insom...\n",
       "90      Is fatigue prevalent in patients receiving tre...\n",
       "                              ...                        \n",
       "2143    Are hepadnaviral minichromosomes free of nucle...\n",
       "2144    Is Cri Du Chat associated with an expansion of...\n",
       "2148    Is it feasible to obtain DNA read lengths that...\n",
       "2149      Is osteocrin expressed exclusively in the bone?\n",
       "2153    Are alterations in ultraconserved elements ass...\n",
       "2157               Is apremilast effective for psoriasis?\n",
       "2158    Is skin color affected by variations of the SL...\n",
       "2164                     Do circRNAs remain untranslated?\n",
       "2167    Is autophagy the process where bacteria ingest...\n",
       "2174    Is intraoperative radiotherapy used for treatm...\n",
       "2179    Is tirilazad effective for treatment of aneury...\n",
       "2184    Is dexamethasone recommended for treatment of ...\n",
       "2187        Is airplane stroke syndrome a common disease.\n",
       "2192    Is hydroxyurea usually used to treated infecti...\n",
       "2194      Can acupuncture cause spinal epidural hematoma?\n",
       "2195            Is edema a symptom of nephrotic syndrome?\n",
       "2198    Is there an association between Histone H3.3 m...\n",
       "2205                Is Pfh1 a component of the replisome?\n",
       "2213    Does the Abelson-related gene (ARG) gene encod...\n",
       "2215    Is Prochlorococcus the most abundant photosynt...\n",
       "2218    Is dupilumab an antibody targeting the IL-1 re...\n",
       "2223    Does the histone chaperone ASF1 interact with ...\n",
       "2224    Is Hepatic mesenchymal hamartoma usually a mal...\n",
       "2231    Are selenium supplements recommended for prost...\n",
       "2234    Is there any involvement of L1 retrotransposit...\n",
       "2235    Is Downs syndrome associated with decreased ri...\n",
       "2237    Does PCSK9 (Proprotein convertase subtilisin/k...\n",
       "2239     Is apremilast effective for psoriatic arthritis?\n",
       "2240                 Is there any role of TBR1 in autism?\n",
       "2244     Is sonidegib effective for basal cell carcinoma?\n",
       "Name: body, Length: 616, dtype: object"
      ]
     },
     "execution_count": 121,
     "metadata": {},
     "output_type": "execute_result"
    }
   ],
   "source": [
    "yesno.body"
   ]
  },
  {
   "cell_type": "code",
   "execution_count": 62,
   "metadata": {},
   "outputs": [
    {
     "data": {
      "text/plain": [
       "factoid    619\n",
       "yesno      616\n",
       "summary    531\n",
       "list       485\n",
       "Name: type, dtype: int64"
      ]
     },
     "execution_count": 62,
     "metadata": {},
     "output_type": "execute_result"
    }
   ],
   "source": [
    "data['type'].value_counts()"
   ]
  },
  {
   "cell_type": "code",
   "execution_count": 63,
   "metadata": {},
   "outputs": [
    {
     "data": {
      "text/plain": [
       "5.2309278350515465"
      ]
     },
     "execution_count": 63,
     "metadata": {},
     "output_type": "execute_result"
    }
   ],
   "source": [
    "listtype.exact_answer.apply(lambda x: len(x)).mean()"
   ]
  },
  {
   "cell_type": "code",
   "execution_count": 64,
   "metadata": {},
   "outputs": [
    {
     "data": {
      "text/plain": [
       "yes    524\n",
       "no      92\n",
       "Name: exact_answer, dtype: int64"
      ]
     },
     "execution_count": 64,
     "metadata": {},
     "output_type": "execute_result"
    }
   ],
   "source": [
    "yesno.exact_answer.value_counts()"
   ]
  },
  {
   "cell_type": "code",
   "execution_count": 65,
   "metadata": {},
   "outputs": [
    {
     "data": {
      "text/html": [
       "<div>\n",
       "<style scoped>\n",
       "    .dataframe tbody tr th:only-of-type {\n",
       "        vertical-align: middle;\n",
       "    }\n",
       "\n",
       "    .dataframe tbody tr th {\n",
       "        vertical-align: top;\n",
       "    }\n",
       "\n",
       "    .dataframe thead th {\n",
       "        text-align: right;\n",
       "    }\n",
       "</style>\n",
       "<table border=\"1\" class=\"dataframe\">\n",
       "  <thead>\n",
       "    <tr style=\"text-align: right;\">\n",
       "      <th></th>\n",
       "      <th>n_snippets</th>\n",
       "      <th>n_documents</th>\n",
       "    </tr>\n",
       "  </thead>\n",
       "  <tbody>\n",
       "    <tr>\n",
       "      <th>count</th>\n",
       "      <td>619.000000</td>\n",
       "      <td>619.000000</td>\n",
       "    </tr>\n",
       "    <tr>\n",
       "      <th>mean</th>\n",
       "      <td>14.332795</td>\n",
       "      <td>11.928918</td>\n",
       "    </tr>\n",
       "    <tr>\n",
       "      <th>std</th>\n",
       "      <td>12.269324</td>\n",
       "      <td>11.976573</td>\n",
       "    </tr>\n",
       "    <tr>\n",
       "      <th>min</th>\n",
       "      <td>0.000000</td>\n",
       "      <td>1.000000</td>\n",
       "    </tr>\n",
       "    <tr>\n",
       "      <th>25%</th>\n",
       "      <td>6.000000</td>\n",
       "      <td>4.000000</td>\n",
       "    </tr>\n",
       "    <tr>\n",
       "      <th>50%</th>\n",
       "      <td>11.000000</td>\n",
       "      <td>9.000000</td>\n",
       "    </tr>\n",
       "    <tr>\n",
       "      <th>75%</th>\n",
       "      <td>19.000000</td>\n",
       "      <td>16.000000</td>\n",
       "    </tr>\n",
       "    <tr>\n",
       "      <th>max</th>\n",
       "      <td>114.000000</td>\n",
       "      <td>133.000000</td>\n",
       "    </tr>\n",
       "  </tbody>\n",
       "</table>\n",
       "</div>"
      ],
      "text/plain": [
       "       n_snippets  n_documents\n",
       "count  619.000000   619.000000\n",
       "mean    14.332795    11.928918\n",
       "std     12.269324    11.976573\n",
       "min      0.000000     1.000000\n",
       "25%      6.000000     4.000000\n",
       "50%     11.000000     9.000000\n",
       "75%     19.000000    16.000000\n",
       "max    114.000000   133.000000"
      ]
     },
     "execution_count": 65,
     "metadata": {},
     "output_type": "execute_result"
    }
   ],
   "source": [
    "factoid.describe()"
   ]
  },
  {
   "cell_type": "code",
   "execution_count": 22,
   "metadata": {},
   "outputs": [
    {
     "data": {
      "text/plain": [
       "[u'http://www.disease-ontology.org/api/metadata/DOID:162']"
      ]
     },
     "execution_count": 22,
     "metadata": {},
     "output_type": "execute_result"
    }
   ],
   "source": [
    "factoid.concepts.iloc[1]"
   ]
  },
  {
   "cell_type": "code",
   "execution_count": 23,
   "metadata": {},
   "outputs": [
    {
     "data": {
      "text/plain": [
       "5.2309278350515465"
      ]
     },
     "execution_count": 23,
     "metadata": {},
     "output_type": "execute_result"
    }
   ],
   "source": [
    "listtype.exact_answer.apply(lambda x: len(x)).mean()"
   ]
  },
  {
   "cell_type": "code",
   "execution_count": 25,
   "metadata": {},
   "outputs": [],
   "source": [
    "s = summarytype.ideal_answer.apply(lambda x: len(x))"
   ]
  },
  {
   "cell_type": "code",
   "execution_count": 103,
   "metadata": {},
   "outputs": [
    {
     "data": {
      "text/plain": [
       "65.723163841807903"
      ]
     },
     "execution_count": 103,
     "metadata": {},
     "output_type": "execute_result"
    }
   ],
   "source": [
    "summarytype.ideal_answer.apply(lambda x: len(x[0].split(' '))).mean()"
   ]
  },
  {
   "cell_type": "code",
   "execution_count": 11,
   "metadata": {},
   "outputs": [
    {
     "data": {
      "text/html": [
       "<div>\n",
       "<style scoped>\n",
       "    .dataframe tbody tr th:only-of-type {\n",
       "        vertical-align: middle;\n",
       "    }\n",
       "\n",
       "    .dataframe tbody tr th {\n",
       "        vertical-align: top;\n",
       "    }\n",
       "\n",
       "    .dataframe thead th {\n",
       "        text-align: right;\n",
       "    }\n",
       "</style>\n",
       "<table border=\"1\" class=\"dataframe\">\n",
       "  <thead>\n",
       "    <tr style=\"text-align: right;\">\n",
       "      <th></th>\n",
       "      <th>body</th>\n",
       "      <th>concepts</th>\n",
       "      <th>documents</th>\n",
       "      <th>exact_answer</th>\n",
       "      <th>id</th>\n",
       "      <th>ideal_answer</th>\n",
       "      <th>snippets</th>\n",
       "      <th>triples</th>\n",
       "      <th>type</th>\n",
       "      <th>n_snippets</th>\n",
       "      <th>n_documents</th>\n",
       "    </tr>\n",
       "  </thead>\n",
       "  <tbody>\n",
       "    <tr>\n",
       "      <th>0</th>\n",
       "      <td>Is Hirschsprung disease a mendelian or a multi...</td>\n",
       "      <td>[http://www.disease-ontology.org/api/metadata/...</td>\n",
       "      <td>[http://www.ncbi.nlm.nih.gov/pubmed/15829955, ...</td>\n",
       "      <td>NaN</td>\n",
       "      <td>55031181e9bde69634000014</td>\n",
       "      <td>[Coding sequence mutations in RET, GDNF, EDNRB...</td>\n",
       "      <td>[{u'offsetInBeginSection': 131, u'offsetInEndS...</td>\n",
       "      <td>NaN</td>\n",
       "      <td>summary</td>\n",
       "      <td>16</td>\n",
       "      <td>8</td>\n",
       "    </tr>\n",
       "    <tr>\n",
       "      <th>1</th>\n",
       "      <td>List signaling molecules (ligands) that intera...</td>\n",
       "      <td>[http://amigo.geneontology.org/cgi-bin/amigo/t...</td>\n",
       "      <td>[http://www.ncbi.nlm.nih.gov/pubmed/23959273, ...</td>\n",
       "      <td>[[epidermal growth factor], [betacellulin], [e...</td>\n",
       "      <td>55046d5ff8aee20f27000007</td>\n",
       "      <td>[The 7 known EGFR ligands  are: epidermal grow...</td>\n",
       "      <td>[{u'offsetInBeginSection': 1085, u'offsetInEnd...</td>\n",
       "      <td>[{u'p': u'http://purl.uniprot.org/core/encoded...</td>\n",
       "      <td>list</td>\n",
       "      <td>15</td>\n",
       "      <td>16</td>\n",
       "    </tr>\n",
       "    <tr>\n",
       "      <th>2</th>\n",
       "      <td>Is the protein Papilin secreted?</td>\n",
       "      <td>NaN</td>\n",
       "      <td>[http://www.ncbi.nlm.nih.gov/pubmed/3320045, h...</td>\n",
       "      <td>yes</td>\n",
       "      <td>54e25eaaae9738404b000017</td>\n",
       "      <td>[Yes,  papilin is a secreted protein]</td>\n",
       "      <td>[{u'offsetInBeginSection': 1085, u'offsetInEnd...</td>\n",
       "      <td>NaN</td>\n",
       "      <td>yesno</td>\n",
       "      <td>8</td>\n",
       "      <td>10</td>\n",
       "    </tr>\n",
       "    <tr>\n",
       "      <th>3</th>\n",
       "      <td>Are long non coding RNAs spliced?</td>\n",
       "      <td>[http://www.nlm.nih.gov/cgi/mesh/2014/MB_cgi?f...</td>\n",
       "      <td>[http://www.ncbi.nlm.nih.gov/pubmed/22955988, ...</td>\n",
       "      <td>yes</td>\n",
       "      <td>535d292a9a4572de6f000003</td>\n",
       "      <td>[Long non coding RNAs appear to be spliced thr...</td>\n",
       "      <td>[{u'offsetInBeginSection': 546, u'offsetInEndS...</td>\n",
       "      <td>NaN</td>\n",
       "      <td>yesno</td>\n",
       "      <td>6</td>\n",
       "      <td>6</td>\n",
       "    </tr>\n",
       "    <tr>\n",
       "      <th>4</th>\n",
       "      <td>Is RANKL secreted from the cells?</td>\n",
       "      <td>[http://www.uniprot.org/uniprot/TNF11_RAT, htt...</td>\n",
       "      <td>[http://www.ncbi.nlm.nih.gov/pubmed/22948539, ...</td>\n",
       "      <td>yes</td>\n",
       "      <td>55262a9787ecba3764000009</td>\n",
       "      <td>[Receptor activator of nuclear factor κB ligan...</td>\n",
       "      <td>[{u'offsetInBeginSection': 114, u'offsetInEndS...</td>\n",
       "      <td>NaN</td>\n",
       "      <td>yesno</td>\n",
       "      <td>11</td>\n",
       "      <td>10</td>\n",
       "    </tr>\n",
       "  </tbody>\n",
       "</table>\n",
       "</div>"
      ],
      "text/plain": [
       "                                                body  \\\n",
       "0  Is Hirschsprung disease a mendelian or a multi...   \n",
       "1  List signaling molecules (ligands) that intera...   \n",
       "2                   Is the protein Papilin secreted?   \n",
       "3                  Are long non coding RNAs spliced?   \n",
       "4                  Is RANKL secreted from the cells?   \n",
       "\n",
       "                                            concepts  \\\n",
       "0  [http://www.disease-ontology.org/api/metadata/...   \n",
       "1  [http://amigo.geneontology.org/cgi-bin/amigo/t...   \n",
       "2                                                NaN   \n",
       "3  [http://www.nlm.nih.gov/cgi/mesh/2014/MB_cgi?f...   \n",
       "4  [http://www.uniprot.org/uniprot/TNF11_RAT, htt...   \n",
       "\n",
       "                                           documents  \\\n",
       "0  [http://www.ncbi.nlm.nih.gov/pubmed/15829955, ...   \n",
       "1  [http://www.ncbi.nlm.nih.gov/pubmed/23959273, ...   \n",
       "2  [http://www.ncbi.nlm.nih.gov/pubmed/3320045, h...   \n",
       "3  [http://www.ncbi.nlm.nih.gov/pubmed/22955988, ...   \n",
       "4  [http://www.ncbi.nlm.nih.gov/pubmed/22948539, ...   \n",
       "\n",
       "                                        exact_answer  \\\n",
       "0                                                NaN   \n",
       "1  [[epidermal growth factor], [betacellulin], [e...   \n",
       "2                                                yes   \n",
       "3                                                yes   \n",
       "4                                                yes   \n",
       "\n",
       "                         id  \\\n",
       "0  55031181e9bde69634000014   \n",
       "1  55046d5ff8aee20f27000007   \n",
       "2  54e25eaaae9738404b000017   \n",
       "3  535d292a9a4572de6f000003   \n",
       "4  55262a9787ecba3764000009   \n",
       "\n",
       "                                        ideal_answer  \\\n",
       "0  [Coding sequence mutations in RET, GDNF, EDNRB...   \n",
       "1  [The 7 known EGFR ligands  are: epidermal grow...   \n",
       "2              [Yes,  papilin is a secreted protein]   \n",
       "3  [Long non coding RNAs appear to be spliced thr...   \n",
       "4  [Receptor activator of nuclear factor κB ligan...   \n",
       "\n",
       "                                            snippets  \\\n",
       "0  [{u'offsetInBeginSection': 131, u'offsetInEndS...   \n",
       "1  [{u'offsetInBeginSection': 1085, u'offsetInEnd...   \n",
       "2  [{u'offsetInBeginSection': 1085, u'offsetInEnd...   \n",
       "3  [{u'offsetInBeginSection': 546, u'offsetInEndS...   \n",
       "4  [{u'offsetInBeginSection': 114, u'offsetInEndS...   \n",
       "\n",
       "                                             triples     type  n_snippets  \\\n",
       "0                                                NaN  summary          16   \n",
       "1  [{u'p': u'http://purl.uniprot.org/core/encoded...     list          15   \n",
       "2                                                NaN    yesno           8   \n",
       "3                                                NaN    yesno           6   \n",
       "4                                                NaN    yesno          11   \n",
       "\n",
       "   n_documents  \n",
       "0            8  \n",
       "1           16  \n",
       "2           10  \n",
       "3            6  \n",
       "4           10  "
      ]
     },
     "execution_count": 11,
     "metadata": {},
     "output_type": "execute_result"
    }
   ],
   "source": [
    "data.head()"
   ]
  },
  {
   "cell_type": "code",
   "execution_count": 17,
   "metadata": {},
   "outputs": [],
   "source": [
    "s = 'A common sex-dependent mutation in a RET enhancer underlies Hirschsprung disease risk. The identification of common variants that contribute to the genesis of human inherited disorders remains a significant challenge. Hirschsprung disease (HSCR) is a multifactorial, non-mendelian disorder in which rare high-penetrance coding sequence mutations in the receptor tyrosine kinase RET contribute to risk in combination with mutations at other genes. We have used family-based association studies to identify a disease interval, and integrated this with comparative and functional genomic analysis to prioritize conserved and functional elements within which mutations can be sought. We now show that a common non-coding RET variant within a conserved enhancer-like sequence in intron 1 is significantly associated with HSCR susceptibility and makes a 20-fold greater contribution to risk than rare alleles do. This mutation reduces in vitro enhancer activity markedly, has low penetrance, has different genetic effects in males and females, and explains several features of the complex inheritance pattern of HSCR. Thus, common low-penetrance variants, identified by association studies, can underlie both common and rare diseases.'"
   ]
  },
  {
   "cell_type": "code",
   "execution_count": 21,
   "metadata": {},
   "outputs": [
    {
     "data": {
      "text/plain": [
       "'Hirschsprung disease'"
      ]
     },
     "execution_count": 21,
     "metadata": {},
     "output_type": "execute_result"
    }
   ],
   "source": [
    "s[60:80]"
   ]
  },
  {
   "cell_type": "code",
   "execution_count": 23,
   "metadata": {},
   "outputs": [
    {
     "data": {
      "text/plain": [
       "[u'http://www.disease-ontology.org/api/metadata/DOID:10487',\n",
       " u'http://www.nlm.nih.gov/cgi/mesh/2015/MB_cgi?field=uid&exact=Find+Exact+Term&term=D006627',\n",
       " u'http://www.nlm.nih.gov/cgi/mesh/2015/MB_cgi?field=uid&exact=Find+Exact+Term&term=D020412',\n",
       " u'http://www.disease-ontology.org/api/metadata/DOID:11372']"
      ]
     },
     "execution_count": 23,
     "metadata": {},
     "output_type": "execute_result"
    }
   ],
   "source": [
    "data.concepts.iloc[0]"
   ]
  },
  {
   "cell_type": "code",
   "execution_count": 81,
   "metadata": {},
   "outputs": [],
   "source": [
    "import requests"
   ]
  },
  {
   "cell_type": "code",
   "execution_count": 82,
   "metadata": {},
   "outputs": [],
   "source": [
    "uri = 'https://www.ncbi.nlm.nih.gov/CBBresearch/Lu/Demo/RESTful/tmTool.cgi/BioConcept/19894120,15829955/JSON/'\n",
    "r = requests.get(uri)\n",
    "r.encoding = 'utf-8'"
   ]
  },
  {
   "cell_type": "code",
   "execution_count": 83,
   "metadata": {},
   "outputs": [
    {
     "data": {
      "text/plain": [
       "False"
      ]
     },
     "execution_count": 83,
     "metadata": {},
     "output_type": "execute_result"
    }
   ],
   "source": [
    "r.text.startswith('[Error]')"
   ]
  },
  {
   "cell_type": "code",
   "execution_count": 104,
   "metadata": {},
   "outputs": [
    {
     "data": {
      "text/plain": [
       "[{u'denotations': [{u'obj': u'Species:11676',\n",
       "    u'span': {u'begin': 405, u'end': 410}},\n",
       "   {u'obj': u'Species:11676', u'span': {u'begin': 1066, u'end': 1071}},\n",
       "   {u'obj': u'Gene:4363', u'span': {u'begin': 122, u'end': 163}},\n",
       "   {u'obj': u'Gene:4363', u'span': {u'begin': 165, u'end': 170}},\n",
       "   {u'obj': u'Gene:4363', u'span': {u'begin': 47, u'end': 88}},\n",
       "   {u'obj': u'Gene:4363', u'span': {u'begin': 90, u'end': 94}},\n",
       "   {u'obj': u'Gene:4363', u'span': {u'begin': 255, u'end': 260}},\n",
       "   {u'obj': u'Gene:4363', u'span': {u'begin': 551, u'end': 556}},\n",
       "   {u'obj': u'Gene:4363', u'span': {u'begin': 754, u'end': 759}},\n",
       "   {u'obj': u'Gene:4363', u'span': {u'begin': 883, u'end': 888}},\n",
       "   {u'obj': u'Chemical:C059141', u'span': {u'begin': 1010, u'end': 1016}},\n",
       "   {u'obj': u'Chemical:C007740', u'span': {u'begin': 614, u'end': 621}},\n",
       "   {u'obj': u'Chemical:D005978', u'span': {u'begin': 315, u'end': 326}},\n",
       "   {u'obj': u'Chemical:D005978', u'span': {u'begin': 299, u'end': 310}},\n",
       "   {u'obj': u'Chemical:D000255', u'span': {u'begin': 214, u'end': 217}},\n",
       "   {u'obj': u'Chemical:CHEBI:16412', u'span': {u'begin': 0, u'end': 18}},\n",
       "   {u'obj': u'Disease:D009894', u'span': {u'begin': 1121, u'end': 1145}}],\n",
       "  u'sourcedb': u'PubMed',\n",
       "  u'sourceid': u'19894120',\n",
       "  u'text': u'Lipopolysaccharide increases the expression of multidrug resistance-associated protein 1 (MRP1) in RAW 264.7 macrophages. Multidrug resistance-associated protein 1 (MRP-1) is a ubiquitously expressed member of the ATP-binding cassette transporter family. MRP-1 is one of the primary transporters of glutathione and glutathione conjugates. This protein also transports antiretroviral therapeutics, such as HIV-1 protease inhibitors (PI). We hypothesized that inflammatory mediators that activate macrophages would modify the expression and activity of MRP-1 in macrophages. Real-time PCR assays, western blots, and calcein efflux assays were used to show that exposure of macrophage cell line RAW 264.7 to lipopolysaccharide (LPS) increased expression of MRP-1 at the levels of mRNA, protein, and functional activity. Treatment of macrophages with LPS resulted in 2-fold increases of MRP-1 expression or functional activity. LPS-mediated increases in calcein efflux were repressed by the MRP-specific inhibitor MK-571. These results suggest that the effectiveness of HIV-1 PI therapy may be compromised by the presence of opportunistic infections.'},\n",
       " {u'denotations': [{u'obj': u'Species:9606',\n",
       "    u'span': {u'begin': 159, u'end': 164}},\n",
       "   {u'obj': u'Gene:5979', u'span': {u'begin': 37, u'end': 40}},\n",
       "   {u'obj': u'Gene:5979', u'span': {u'begin': 378, u'end': 381}},\n",
       "   {u'obj': u'Gene:5979', u'span': {u'begin': 717, u'end': 720}},\n",
       "   {u'obj': u'Chemical:CHEBI:18186', u'span': {u'begin': 362, u'end': 370}},\n",
       "   {u'obj': u'Disease:D006627', u'span': {u'begin': 60, u'end': 80}},\n",
       "   {u'obj': u'Disease:D030342', u'span': {u'begin': 165, u'end': 184}},\n",
       "   {u'obj': u'Disease:D006627', u'span': {u'begin': 218, u'end': 238}},\n",
       "   {u'obj': u'Disease:D006627', u'span': {u'begin': 240, u'end': 244}},\n",
       "   {u'obj': u'Disease:D030342', u'span': {u'begin': 267, u'end': 289}},\n",
       "   {u'obj': u'Disease:D006627', u'span': {u'begin': 816, u'end': 820}},\n",
       "   {u'obj': u'Disease:D006627', u'span': {u'begin': 1106, u'end': 1110}},\n",
       "   {u'obj': u'Disease:D035583', u'span': {u'begin': 1214, u'end': 1227}}],\n",
       "  u'sourcedb': u'PubMed',\n",
       "  u'sourceid': u'15829955',\n",
       "  u'text': u'A common sex-dependent mutation in a RET enhancer underlies Hirschsprung disease risk. The identification of common variants that contribute to the genesis of human inherited disorders remains a significant challenge. Hirschsprung disease (HSCR) is a multifactorial, non-mendelian disorder in which rare high-penetrance coding sequence mutations in the receptor tyrosine kinase RET contribute to risk in combination with mutations at other genes. We have used family-based association studies to identify a disease interval, and integrated this with comparative and functional genomic analysis to prioritize conserved and functional elements within which mutations can be sought. We now show that a common non-coding RET variant within a conserved enhancer-like sequence in intron 1 is significantly associated with HSCR susceptibility and makes a 20-fold greater contribution to risk than rare alleles do. This mutation reduces in vitro enhancer activity markedly, has low penetrance, has different genetic effects in males and females, and explains several features of the complex inheritance pattern of HSCR. Thus, common low-penetrance variants, identified by association studies, can underlie both common and rare diseases.'}]"
      ]
     },
     "execution_count": 104,
     "metadata": {},
     "output_type": "execute_result"
    }
   ],
   "source": [
    "a = r.text.strip('\\n')\n",
    "a = '[%s]' % a[1:-1]\n",
    "# a = ['{\"sourcedb' + i for i in a[1:-1].split('{\"sourcedb')][1:]\n",
    "# [json.loads(i.strip(',')) for i in a]\n",
    "json.loads(a)"
   ]
  },
  {
   "cell_type": "code",
   "execution_count": null,
   "metadata": {},
   "outputs": [],
   "source": []
  },
  {
   "cell_type": "code",
   "execution_count": 57,
   "metadata": {},
   "outputs": [],
   "source": [
    "run ner/pubtator.py"
   ]
  },
  {
   "cell_type": "code",
   "execution_count": 58,
   "metadata": {},
   "outputs": [
    {
     "data": {
      "text/plain": [
       "[{'entity': u'HIV-1', 'type': u'Species'},\n",
       " {'entity': u'HIV-1', 'type': u'Species'},\n",
       " {'entity': u'Multidrug resistance-associated protein 1', 'type': u'Gene'},\n",
       " {'entity': u'MRP-1', 'type': u'Gene'},\n",
       " {'entity': u'multidrug resistance-associated protein 1', 'type': u'Gene'},\n",
       " {'entity': u'MRP1', 'type': u'Gene'},\n",
       " {'entity': u'MRP-1', 'type': u'Gene'},\n",
       " {'entity': u'MRP-1', 'type': u'Gene'},\n",
       " {'entity': u'MRP-1', 'type': u'Gene'},\n",
       " {'entity': u'MRP-1', 'type': u'Gene'},\n",
       " {'entity': u'MK-571', 'type': u'Chemical'},\n",
       " {'entity': u'calcein', 'type': u'Chemical'},\n",
       " {'entity': u'glutathione', 'type': u'Chemical'},\n",
       " {'entity': u'glutathione', 'type': u'Chemical'},\n",
       " {'entity': u'ATP', 'type': u'Chemical'},\n",
       " {'entity': u'Lipopolysaccharide', 'type': u'Chemical'},\n",
       " {'entity': u'opportunistic infections', 'type': u'Disease'}]"
      ]
     },
     "execution_count": 58,
     "metadata": {},
     "output_type": "execute_result"
    }
   ],
   "source": [
    "get_bio_concepts(19894120)"
   ]
  },
  {
   "cell_type": "code",
   "execution_count": 21,
   "metadata": {},
   "outputs": [
    {
     "data": {
      "text/plain": [
       "[u'offsetInBeginSection',\n",
       " u'offsetInEndSection',\n",
       " u'text',\n",
       " u'beginSection',\n",
       " u'document',\n",
       " u'endSection']"
      ]
     },
     "execution_count": 21,
     "metadata": {},
     "output_type": "execute_result"
    }
   ],
   "source": [
    "data2[0]['snippets'][0]"
   ]
  },
  {
   "cell_type": "code",
   "execution_count": 13,
   "metadata": {},
   "outputs": [
    {
     "data": {
      "text/plain": [
       "[u\"Coding sequence mutations in RET, GDNF, EDNRB, EDN3, and SOX10 are involved in the development of Hirschsprung disease. The majority of these genes was shown to be related to Mendelian syndromic forms of Hirschsprung's disease, whereas the non-Mendelian inheritance of sporadic non-syndromic Hirschsprung disease proved to be complex; involvement of multiple loci was demonstrated in a multiplicative model.\"]"
      ]
     },
     "execution_count": 13,
     "metadata": {},
     "output_type": "execute_result"
    }
   ],
   "source": [
    "data2[0]['ideal_answer']"
   ]
  },
  {
   "cell_type": "code",
   "execution_count": 33,
   "metadata": {},
   "outputs": [],
   "source": [
    "doc_id = 15829955\n",
    "uri = 'https://www.ncbi.nlm.nih.gov/CBBresearch/Lu/Demo/RESTful/tmTool.cgi/none/%d/JSON/' % doc_id"
   ]
  },
  {
   "cell_type": "code",
   "execution_count": 5,
   "metadata": {},
   "outputs": [],
   "source": [
    "input_path = 'input/BioASQ-trainingDataset6b.json'\n",
    "from dataLoader import DataLoader\n",
    "\n",
    "data = DataLoader(input_path)"
   ]
  },
  {
   "cell_type": "code",
   "execution_count": 9,
   "metadata": {},
   "outputs": [],
   "source": [
    "run ner/evaluator.py"
   ]
  },
  {
   "cell_type": "code",
   "execution_count": 11,
   "metadata": {},
   "outputs": [],
   "source": [
    "from ner.pubtator import get_bio_concepts"
   ]
  },
  {
   "cell_type": "code",
   "execution_count": 31,
   "metadata": {},
   "outputs": [],
   "source": [
    "import pandas as pd\n",
    "\n",
    "list_type = data.get_questions_of_type('list')\n",
    "factoid_type = data.get_questions_of_type('factoid')\n",
    "tagger = get_bio_concepts\n",
    "\n",
    "results = []\n",
    "for question in list_type[:5] + factoid_type[:5]:\n",
    "    answers = [answer.lower() for answer in _flatten(question.exact_answer_ref)]\n",
    "    entities = []\n",
    "    for document in question.documents:\n",
    "        entities += _entities_from_tagger(tagger, document.doc_id, document.text)\n",
    "    entities = list(np.unique(entities))\n",
    "    exact_matches = sum([answer in entities for answer in answers])\n",
    "    soft_matches = 0\n",
    "    results.append({\n",
    "        'answers': answers,\n",
    "        'entities': entities,\n",
    "        'exact_matches': exact_matches,\n",
    "        'total_answers': len(answers),\n",
    "        'total_entities': len(entities),\n",
    "        'soft_matches': soft_matches,\n",
    "        'type': question.type\n",
    "    })\n",
    "\n",
    "results = pd.DataFrame(results)"
   ]
  },
  {
   "cell_type": "code",
   "execution_count": 32,
   "metadata": {},
   "outputs": [
    {
     "data": {
      "text/html": [
       "<div>\n",
       "<style scoped>\n",
       "    .dataframe tbody tr th:only-of-type {\n",
       "        vertical-align: middle;\n",
       "    }\n",
       "\n",
       "    .dataframe tbody tr th {\n",
       "        vertical-align: top;\n",
       "    }\n",
       "\n",
       "    .dataframe thead th {\n",
       "        text-align: right;\n",
       "    }\n",
       "</style>\n",
       "<table border=\"1\" class=\"dataframe\">\n",
       "  <thead>\n",
       "    <tr style=\"text-align: right;\">\n",
       "      <th></th>\n",
       "      <th>answers</th>\n",
       "      <th>entities</th>\n",
       "      <th>exact_matches</th>\n",
       "      <th>soft_matches</th>\n",
       "      <th>total_answers</th>\n",
       "      <th>total_entities</th>\n",
       "      <th>type</th>\n",
       "    </tr>\n",
       "  </thead>\n",
       "  <tbody>\n",
       "    <tr>\n",
       "      <th>0</th>\n",
       "      <td>[epidermal growth factor, betacellulin, epireg...</td>\n",
       "      <td>[a-sma, a&gt;g, adam17, aggressiveness of the tum...</td>\n",
       "      <td>4</td>\n",
       "      <td>0</td>\n",
       "      <td>7</td>\n",
       "      <td>122</td>\n",
       "      <td>list</td>\n",
       "    </tr>\n",
       "    <tr>\n",
       "      <th>1</th>\n",
       "      <td>[let-7a, let-7b, let-7i, mir-21, mir-26a, mir-...</td>\n",
       "      <td>[22-nucleotide, advanced-stage ovarian serous ...</td>\n",
       "      <td>16</td>\n",
       "      <td>0</td>\n",
       "      <td>20</td>\n",
       "      <td>68</td>\n",
       "      <td>list</td>\n",
       "    </tr>\n",
       "    <tr>\n",
       "      <th>2</th>\n",
       "      <td>[neostigmine, pyridostigmine]</td>\n",
       "      <td>[acetylcholine, acetylcholinesterase, ache, au...</td>\n",
       "      <td>2</td>\n",
       "      <td>0</td>\n",
       "      <td>2</td>\n",
       "      <td>37</td>\n",
       "      <td>list</td>\n",
       "    </tr>\n",
       "    <tr>\n",
       "      <th>3</th>\n",
       "      <td>[dvl-1, dvl-2, dvl-3]</td>\n",
       "      <td>[amino acid, amino-acid, beta-catenin, breast ...</td>\n",
       "      <td>3</td>\n",
       "      <td>0</td>\n",
       "      <td>3</td>\n",
       "      <td>48</td>\n",
       "      <td>list</td>\n",
       "    </tr>\n",
       "    <tr>\n",
       "      <th>4</th>\n",
       "      <td>[class i: sodium channel blockers, classii: be...</td>\n",
       "      <td>[acquired qt syndrome, amiodarone, arrhythmia,...</td>\n",
       "      <td>0</td>\n",
       "      <td>0</td>\n",
       "      <td>4</td>\n",
       "      <td>21</td>\n",
       "      <td>list</td>\n",
       "    </tr>\n",
       "    <tr>\n",
       "      <th>5</th>\n",
       "      <td>[bazex syndrome]</td>\n",
       "      <td>[acral psoriasiform lesions, acrokeratosis, ac...</td>\n",
       "      <td>1</td>\n",
       "      <td>0</td>\n",
       "      <td>1</td>\n",
       "      <td>75</td>\n",
       "      <td>factoid</td>\n",
       "    </tr>\n",
       "    <tr>\n",
       "      <th>6</th>\n",
       "      <td>[castration-resistant prostate cancer]</td>\n",
       "      <td>[(+)-3c, (s)-warfarin, 6,7-dihydro-5h-pyrrolo[...</td>\n",
       "      <td>1</td>\n",
       "      <td>0</td>\n",
       "      <td>1</td>\n",
       "      <td>70</td>\n",
       "      <td>factoid</td>\n",
       "    </tr>\n",
       "    <tr>\n",
       "      <th>7</th>\n",
       "      <td>[glycosyltransferase 8 domain containing 1]</td>\n",
       "      <td>[bisulfite, c6orf136, cancer, chpf, flna, foxm...</td>\n",
       "      <td>0</td>\n",
       "      <td>0</td>\n",
       "      <td>1</td>\n",
       "      <td>23</td>\n",
       "      <td>factoid</td>\n",
       "    </tr>\n",
       "    <tr>\n",
       "      <th>8</th>\n",
       "      <td>[plasma membrane]</td>\n",
       "      <td>[adenosine, adenosine triphosphate, adp, amino...</td>\n",
       "      <td>0</td>\n",
       "      <td>0</td>\n",
       "      <td>1</td>\n",
       "      <td>55</td>\n",
       "      <td>factoid</td>\n",
       "    </tr>\n",
       "    <tr>\n",
       "      <th>9</th>\n",
       "      <td>[autosomal recessive]</td>\n",
       "      <td>[acute or chronic hepatitis, alanine, ammonium...</td>\n",
       "      <td>0</td>\n",
       "      <td>0</td>\n",
       "      <td>1</td>\n",
       "      <td>67</td>\n",
       "      <td>factoid</td>\n",
       "    </tr>\n",
       "  </tbody>\n",
       "</table>\n",
       "</div>"
      ],
      "text/plain": [
       "                                             answers  \\\n",
       "0  [epidermal growth factor, betacellulin, epireg...   \n",
       "1  [let-7a, let-7b, let-7i, mir-21, mir-26a, mir-...   \n",
       "2                      [neostigmine, pyridostigmine]   \n",
       "3                              [dvl-1, dvl-2, dvl-3]   \n",
       "4  [class i: sodium channel blockers, classii: be...   \n",
       "5                                   [bazex syndrome]   \n",
       "6             [castration-resistant prostate cancer]   \n",
       "7        [glycosyltransferase 8 domain containing 1]   \n",
       "8                                  [plasma membrane]   \n",
       "9                              [autosomal recessive]   \n",
       "\n",
       "                                            entities  exact_matches  \\\n",
       "0  [a-sma, a>g, adam17, aggressiveness of the tum...              4   \n",
       "1  [22-nucleotide, advanced-stage ovarian serous ...             16   \n",
       "2  [acetylcholine, acetylcholinesterase, ache, au...              2   \n",
       "3  [amino acid, amino-acid, beta-catenin, breast ...              3   \n",
       "4  [acquired qt syndrome, amiodarone, arrhythmia,...              0   \n",
       "5  [acral psoriasiform lesions, acrokeratosis, ac...              1   \n",
       "6  [(+)-3c, (s)-warfarin, 6,7-dihydro-5h-pyrrolo[...              1   \n",
       "7  [bisulfite, c6orf136, cancer, chpf, flna, foxm...              0   \n",
       "8  [adenosine, adenosine triphosphate, adp, amino...              0   \n",
       "9  [acute or chronic hepatitis, alanine, ammonium...              0   \n",
       "\n",
       "   soft_matches  total_answers  total_entities     type  \n",
       "0             0              7             122     list  \n",
       "1             0             20              68     list  \n",
       "2             0              2              37     list  \n",
       "3             0              3              48     list  \n",
       "4             0              4              21     list  \n",
       "5             0              1              75  factoid  \n",
       "6             0              1              70  factoid  \n",
       "7             0              1              23  factoid  \n",
       "8             0              1              55  factoid  \n",
       "9             0              1              67  factoid  "
      ]
     },
     "execution_count": 32,
     "metadata": {},
     "output_type": "execute_result"
    }
   ],
   "source": [
    "results"
   ]
  },
  {
   "cell_type": "code",
   "execution_count": 33,
   "metadata": {},
   "outputs": [],
   "source": [
    "def _soft_matches(answers, entities):\n",
    "    answers = list(map(_normalize, answers))\n",
    "    entities = list(map(_normalize, entities))\n",
    "    matches = 0\n",
    "    for answer in answers:\n",
    "        for entity in entities:\n",
    "            if answer in entity or entity in answer:\n",
    "                matches += 1\n",
    "                break\n",
    "    return matches"
   ]
  },
  {
   "cell_type": "code",
   "execution_count": 34,
   "metadata": {},
   "outputs": [],
   "source": [
    "results.soft_matches = results.apply(lambda x: _soft_matches(x['answers'], x['entities']), axis=1)\n",
    "# results.apply(lambda x: ).head()"
   ]
  },
  {
   "cell_type": "code",
   "execution_count": 118,
   "metadata": {
    "scrolled": false
   },
   "outputs": [
    {
     "data": {
      "text/html": [
       "<div>\n",
       "<style scoped>\n",
       "    .dataframe tbody tr th:only-of-type {\n",
       "        vertical-align: middle;\n",
       "    }\n",
       "\n",
       "    .dataframe tbody tr th {\n",
       "        vertical-align: top;\n",
       "    }\n",
       "\n",
       "    .dataframe thead th {\n",
       "        text-align: right;\n",
       "    }\n",
       "</style>\n",
       "<table border=\"1\" class=\"dataframe\">\n",
       "  <thead>\n",
       "    <tr style=\"text-align: right;\">\n",
       "      <th></th>\n",
       "      <th>answers</th>\n",
       "      <th>entities</th>\n",
       "      <th>exact_matches</th>\n",
       "      <th>soft_matches</th>\n",
       "      <th>total_answers</th>\n",
       "      <th>total_entities</th>\n",
       "      <th>type</th>\n",
       "    </tr>\n",
       "  </thead>\n",
       "  <tbody>\n",
       "    <tr>\n",
       "      <th>0</th>\n",
       "      <td>[epidermal growth factor, betacellulin, epireg...</td>\n",
       "      <td>[a-sma, a&gt;g, adam17, aggressiveness of the tum...</td>\n",
       "      <td>4</td>\n",
       "      <td>5</td>\n",
       "      <td>7</td>\n",
       "      <td>122</td>\n",
       "      <td>list</td>\n",
       "    </tr>\n",
       "    <tr>\n",
       "      <th>1</th>\n",
       "      <td>[let-7a, let-7b, let-7i, mir-21, mir-26a, mir-...</td>\n",
       "      <td>[22-nucleotide, advanced-stage ovarian serous ...</td>\n",
       "      <td>16</td>\n",
       "      <td>17</td>\n",
       "      <td>20</td>\n",
       "      <td>68</td>\n",
       "      <td>list</td>\n",
       "    </tr>\n",
       "    <tr>\n",
       "      <th>2</th>\n",
       "      <td>[neostigmine, pyridostigmine]</td>\n",
       "      <td>[acetylcholine, acetylcholinesterase, ache, au...</td>\n",
       "      <td>2</td>\n",
       "      <td>2</td>\n",
       "      <td>2</td>\n",
       "      <td>37</td>\n",
       "      <td>list</td>\n",
       "    </tr>\n",
       "    <tr>\n",
       "      <th>3</th>\n",
       "      <td>[dvl-1, dvl-2, dvl-3]</td>\n",
       "      <td>[amino acid, amino-acid, beta-catenin, breast ...</td>\n",
       "      <td>3</td>\n",
       "      <td>3</td>\n",
       "      <td>3</td>\n",
       "      <td>48</td>\n",
       "      <td>list</td>\n",
       "    </tr>\n",
       "    <tr>\n",
       "      <th>4</th>\n",
       "      <td>[class i: sodium channel blockers, classii: be...</td>\n",
       "      <td>[acquired qt syndrome, amiodarone, arrhythmia,...</td>\n",
       "      <td>0</td>\n",
       "      <td>3</td>\n",
       "      <td>4</td>\n",
       "      <td>21</td>\n",
       "      <td>list</td>\n",
       "    </tr>\n",
       "  </tbody>\n",
       "</table>\n",
       "</div>"
      ],
      "text/plain": [
       "                                             answers  \\\n",
       "0  [epidermal growth factor, betacellulin, epireg...   \n",
       "1  [let-7a, let-7b, let-7i, mir-21, mir-26a, mir-...   \n",
       "2                      [neostigmine, pyridostigmine]   \n",
       "3                              [dvl-1, dvl-2, dvl-3]   \n",
       "4  [class i: sodium channel blockers, classii: be...   \n",
       "\n",
       "                                            entities  exact_matches  \\\n",
       "0  [a-sma, a>g, adam17, aggressiveness of the tum...              4   \n",
       "1  [22-nucleotide, advanced-stage ovarian serous ...             16   \n",
       "2  [acetylcholine, acetylcholinesterase, ache, au...              2   \n",
       "3  [amino acid, amino-acid, beta-catenin, breast ...              3   \n",
       "4  [acquired qt syndrome, amiodarone, arrhythmia,...              0   \n",
       "\n",
       "   soft_matches  total_answers  total_entities  type  \n",
       "0             5              7             122  list  \n",
       "1            17             20              68  list  \n",
       "2             2              2              37  list  \n",
       "3             3              3              48  list  \n",
       "4             3              4              21  list  "
      ]
     },
     "execution_count": 118,
     "metadata": {},
     "output_type": "execute_result"
    }
   ],
   "source": [
    "results.head()"
   ]
  },
  {
   "cell_type": "code",
   "execution_count": 72,
   "metadata": {},
   "outputs": [
    {
     "data": {
      "text/html": [
       "<div>\n",
       "<style scoped>\n",
       "    .dataframe tbody tr th:only-of-type {\n",
       "        vertical-align: middle;\n",
       "    }\n",
       "\n",
       "    .dataframe tbody tr th {\n",
       "        vertical-align: top;\n",
       "    }\n",
       "\n",
       "    .dataframe thead th {\n",
       "        text-align: right;\n",
       "    }\n",
       "</style>\n",
       "<table border=\"1\" class=\"dataframe\">\n",
       "  <thead>\n",
       "    <tr style=\"text-align: right;\">\n",
       "      <th></th>\n",
       "      <th>type</th>\n",
       "      <th>exact_matched_questions</th>\n",
       "      <th>soft_match_questions</th>\n",
       "      <th>exact_matched_answers</th>\n",
       "      <th>soft_match_answers</th>\n",
       "    </tr>\n",
       "  </thead>\n",
       "  <tbody>\n",
       "    <tr>\n",
       "      <th>0</th>\n",
       "      <td>list</td>\n",
       "      <td>0.8</td>\n",
       "      <td>1.0</td>\n",
       "      <td>0.694444</td>\n",
       "      <td>0.833333</td>\n",
       "    </tr>\n",
       "    <tr>\n",
       "      <th>1</th>\n",
       "      <td>factoid</td>\n",
       "      <td>0.4</td>\n",
       "      <td>0.8</td>\n",
       "      <td>0.400000</td>\n",
       "      <td>0.800000</td>\n",
       "    </tr>\n",
       "  </tbody>\n",
       "</table>\n",
       "</div>"
      ],
      "text/plain": [
       "      type  exact_matched_questions  soft_match_questions  \\\n",
       "0     list                      0.8                   1.0   \n",
       "1  factoid                      0.4                   0.8   \n",
       "\n",
       "   exact_matched_answers  soft_match_answers  \n",
       "0               0.694444            0.833333  \n",
       "1               0.400000            0.800000  "
      ]
     },
     "execution_count": 72,
     "metadata": {},
     "output_type": "execute_result"
    }
   ],
   "source": [
    "df = results\n",
    "\n",
    "list_type = results[results.type == 'list']\n",
    "factoid_type = results[results.type == 'factoid']\n",
    "rows = []\n",
    "\n",
    "for df, qtype in [(list_type, 'list'), (factoid_type, 'factoid')]:\n",
    "    N = len(df) * 1.0\n",
    "    exact_matched_questions = len(df[df.exact_matches > 0]) / N\n",
    "    soft_match_questions = len(df[df.soft_matches > 0]) / N\n",
    "\n",
    "    n_exact_answers = df.total_answers.sum() * 1.0\n",
    "    exact_matched_answers = df.exact_matches.sum() / n_exact_answers\n",
    "    soft_match_answers = df.soft_matches.sum() / n_exact_answers\n",
    "\n",
    "    rows.append({\n",
    "        'type': qtype,\n",
    "        'exact_matched_questions': exact_matched_questions,\n",
    "        'soft_match_questions': soft_match_questions,\n",
    "        'exact_matched_answers': exact_matched_answers,\n",
    "        'soft_match_answers': soft_match_answers,\n",
    "    })\n",
    "\n",
    "pd.DataFrame(rows, columns=['type', 'exact_matched_questions', 'soft_match_questions', 'exact_matched_answers', 'soft_match_answers'])"
   ]
  },
  {
   "cell_type": "code",
   "execution_count": 67,
   "metadata": {},
   "outputs": [
    {
     "data": {
      "text/plain": [
       "27034"
      ]
     },
     "execution_count": 67,
     "metadata": {},
     "output_type": "execute_result"
    }
   ],
   "source": [
    "data.documents.apply(lambda x: len(x)).sum()"
   ]
  },
  {
   "cell_type": "code",
   "execution_count": 116,
   "metadata": {},
   "outputs": [],
   "source": [
    "run ner/pubtator.py"
   ]
  },
  {
   "cell_type": "code",
   "execution_count": null,
   "metadata": {},
   "outputs": [],
   "source": []
  }
 ],
 "metadata": {
  "kernelspec": {
   "display_name": "Python 2",
   "language": "python",
   "name": "python2"
  },
  "language_info": {
   "codemirror_mode": {
    "name": "ipython",
    "version": 2
   },
   "file_extension": ".py",
   "mimetype": "text/x-python",
   "name": "python",
   "nbconvert_exporter": "python",
   "pygments_lexer": "ipython2",
   "version": "2.7.14"
  }
 },
 "nbformat": 4,
 "nbformat_minor": 2
}
