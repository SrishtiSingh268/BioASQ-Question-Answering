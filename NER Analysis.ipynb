{
 "cells": [
  {
   "cell_type": "code",
   "execution_count": 1,
   "metadata": {},
   "outputs": [],
   "source": [
    "import json\n",
    "import pandas as pd\n",
    "import numpy as np"
   ]
  },
  {
   "cell_type": "code",
   "execution_count": 2,
   "metadata": {},
   "outputs": [],
   "source": [
    "from dataLoader import DataLoader\n",
    "from ner import evaluator, pubtator\n",
    "\n",
    "input_path = 'input/BioASQ-trainingDataset6b.json'\n",
    "data = DataLoader(input_path)"
   ]
  },
  {
   "cell_type": "markdown",
   "metadata": {},
   "source": [
    "## Pubtator Tagger"
   ]
  },
  {
   "cell_type": "code",
   "execution_count": 3,
   "metadata": {},
   "outputs": [
    {
     "name": "stderr",
     "output_type": "stream",
     "text": [
      "100%|██████████| 1104/1104 [18:06<00:00,  1.02it/s]\n"
     ]
    }
   ],
   "source": [
    "pubtator_results = evaluator.evaluate(pubtator.get_bio_concepts_multiple, data, multiple=True)[0]"
   ]
  },
  {
   "cell_type": "code",
   "execution_count": 21,
   "metadata": {},
   "outputs": [
    {
     "data": {
      "text/html": [
       "<div>\n",
       "<style scoped>\n",
       "    .dataframe tbody tr th:only-of-type {\n",
       "        vertical-align: middle;\n",
       "    }\n",
       "\n",
       "    .dataframe tbody tr th {\n",
       "        vertical-align: top;\n",
       "    }\n",
       "\n",
       "    .dataframe thead th {\n",
       "        text-align: right;\n",
       "    }\n",
       "</style>\n",
       "<table border=\"1\" class=\"dataframe\">\n",
       "  <thead>\n",
       "    <tr style=\"text-align: right;\">\n",
       "      <th></th>\n",
       "      <th>answers</th>\n",
       "      <th>entities</th>\n",
       "      <th>exact_matches</th>\n",
       "      <th>qid</th>\n",
       "      <th>soft_matches</th>\n",
       "      <th>total_answers</th>\n",
       "      <th>total_entities</th>\n",
       "      <th>type</th>\n",
       "    </tr>\n",
       "  </thead>\n",
       "  <tbody>\n",
       "    <tr>\n",
       "      <th>0</th>\n",
       "      <td>[epidermal growth factor, betacellulin, epireg...</td>\n",
       "      <td>[a-sma, a&gt;g, adam17, aggressiveness of the tum...</td>\n",
       "      <td>4</td>\n",
       "      <td>1</td>\n",
       "      <td>5</td>\n",
       "      <td>7</td>\n",
       "      <td>122</td>\n",
       "      <td>list</td>\n",
       "    </tr>\n",
       "    <tr>\n",
       "      <th>1</th>\n",
       "      <td>[let-7a, let-7b, let-7i, mir-21, mir-26a, mir-...</td>\n",
       "      <td>[22-nucleotide, advanced-stage ovarian serous ...</td>\n",
       "      <td>16</td>\n",
       "      <td>6</td>\n",
       "      <td>17</td>\n",
       "      <td>20</td>\n",
       "      <td>68</td>\n",
       "      <td>list</td>\n",
       "    </tr>\n",
       "    <tr>\n",
       "      <th>2</th>\n",
       "      <td>[neostigmine, pyridostigmine]</td>\n",
       "      <td>[acetylcholine, acetylcholinesterase, ache, au...</td>\n",
       "      <td>2</td>\n",
       "      <td>7</td>\n",
       "      <td>2</td>\n",
       "      <td>2</td>\n",
       "      <td>37</td>\n",
       "      <td>list</td>\n",
       "    </tr>\n",
       "    <tr>\n",
       "      <th>3</th>\n",
       "      <td>[dvl-1, dvl-2, dvl-3]</td>\n",
       "      <td>[amino acid, amino-acid, beta-catenin, breast ...</td>\n",
       "      <td>3</td>\n",
       "      <td>9</td>\n",
       "      <td>3</td>\n",
       "      <td>3</td>\n",
       "      <td>48</td>\n",
       "      <td>list</td>\n",
       "    </tr>\n",
       "    <tr>\n",
       "      <th>4</th>\n",
       "      <td>[class i: sodium channel blockers, classii: be...</td>\n",
       "      <td>[acquired qt syndrome, amiodarone, arrhythmia,...</td>\n",
       "      <td>0</td>\n",
       "      <td>11</td>\n",
       "      <td>3</td>\n",
       "      <td>4</td>\n",
       "      <td>21</td>\n",
       "      <td>list</td>\n",
       "    </tr>\n",
       "  </tbody>\n",
       "</table>\n",
       "</div>"
      ],
      "text/plain": [
       "                                             answers  \\\n",
       "0  [epidermal growth factor, betacellulin, epireg...   \n",
       "1  [let-7a, let-7b, let-7i, mir-21, mir-26a, mir-...   \n",
       "2                      [neostigmine, pyridostigmine]   \n",
       "3                              [dvl-1, dvl-2, dvl-3]   \n",
       "4  [class i: sodium channel blockers, classii: be...   \n",
       "\n",
       "                                            entities  exact_matches  qid  \\\n",
       "0  [a-sma, a>g, adam17, aggressiveness of the tum...              4    1   \n",
       "1  [22-nucleotide, advanced-stage ovarian serous ...             16    6   \n",
       "2  [acetylcholine, acetylcholinesterase, ache, au...              2    7   \n",
       "3  [amino acid, amino-acid, beta-catenin, breast ...              3    9   \n",
       "4  [acquired qt syndrome, amiodarone, arrhythmia,...              0   11   \n",
       "\n",
       "   soft_matches  total_answers  total_entities  type  \n",
       "0             5              7             122  list  \n",
       "1            17             20              68  list  \n",
       "2             2              2              37  list  \n",
       "3             3              3              48  list  \n",
       "4             3              4              21  list  "
      ]
     },
     "execution_count": 21,
     "metadata": {},
     "output_type": "execute_result"
    }
   ],
   "source": [
    "# pubtator_results.to_csv('pubtator_results.csv', encoding='utf-8', index=False)\n",
    "pubtator_results = pd.read_csv('pubtator_results.csv', encoding='utf-8')\n",
    "pubtator_results.head()"
   ]
  },
  {
   "cell_type": "code",
   "execution_count": 27,
   "metadata": {},
   "outputs": [
    {
     "data": {
      "text/html": [
       "<div>\n",
       "<style scoped>\n",
       "    .dataframe tbody tr th:only-of-type {\n",
       "        vertical-align: middle;\n",
       "    }\n",
       "\n",
       "    .dataframe tbody tr th {\n",
       "        vertical-align: top;\n",
       "    }\n",
       "\n",
       "    .dataframe thead th {\n",
       "        text-align: right;\n",
       "    }\n",
       "</style>\n",
       "<table border=\"1\" class=\"dataframe\">\n",
       "  <thead>\n",
       "    <tr style=\"text-align: right;\">\n",
       "      <th></th>\n",
       "      <th>type</th>\n",
       "      <th>exact_matched_questions</th>\n",
       "      <th>soft_match_questions</th>\n",
       "      <th>exact_matched_answers</th>\n",
       "      <th>soft_match_answers</th>\n",
       "    </tr>\n",
       "  </thead>\n",
       "  <tbody>\n",
       "    <tr>\n",
       "      <th>0</th>\n",
       "      <td>list</td>\n",
       "      <td>0.679752</td>\n",
       "      <td>0.878099</td>\n",
       "      <td>0.449118</td>\n",
       "      <td>0.739484</td>\n",
       "    </tr>\n",
       "    <tr>\n",
       "      <th>1</th>\n",
       "      <td>factoid</td>\n",
       "      <td>0.318627</td>\n",
       "      <td>0.727124</td>\n",
       "      <td>0.314325</td>\n",
       "      <td>0.728790</td>\n",
       "    </tr>\n",
       "  </tbody>\n",
       "</table>\n",
       "</div>"
      ],
      "text/plain": [
       "      type  exact_matched_questions  soft_match_questions  \\\n",
       "0     list                 0.679752              0.878099   \n",
       "1  factoid                 0.318627              0.727124   \n",
       "\n",
       "   exact_matched_answers  soft_match_answers  \n",
       "0               0.449118            0.739484  \n",
       "1               0.314325            0.728790  "
      ]
     },
     "execution_count": 27,
     "metadata": {},
     "output_type": "execute_result"
    }
   ],
   "source": [
    "evaluator.summary_from_results(pubtator_results)"
   ]
  },
  {
   "cell_type": "code",
   "execution_count": 28,
   "metadata": {},
   "outputs": [
    {
     "data": {
      "text/html": [
       "<div>\n",
       "<style scoped>\n",
       "    .dataframe tbody tr th:only-of-type {\n",
       "        vertical-align: middle;\n",
       "    }\n",
       "\n",
       "    .dataframe tbody tr th {\n",
       "        vertical-align: top;\n",
       "    }\n",
       "\n",
       "    .dataframe thead th {\n",
       "        text-align: right;\n",
       "    }\n",
       "</style>\n",
       "<table border=\"1\" class=\"dataframe\">\n",
       "  <thead>\n",
       "    <tr style=\"text-align: right;\">\n",
       "      <th></th>\n",
       "      <th>answers</th>\n",
       "      <th>entities</th>\n",
       "      <th>exact_matches</th>\n",
       "      <th>soft_matches</th>\n",
       "      <th>total_answers</th>\n",
       "      <th>total_entities</th>\n",
       "      <th>type</th>\n",
       "    </tr>\n",
       "  </thead>\n",
       "  <tbody>\n",
       "    <tr>\n",
       "      <th>484</th>\n",
       "      <td>[bazex syndrome]</td>\n",
       "      <td>[acral psoriasiform lesions, acrokeratosis, ac...</td>\n",
       "      <td>1</td>\n",
       "      <td>1</td>\n",
       "      <td>1</td>\n",
       "      <td>75</td>\n",
       "      <td>factoid</td>\n",
       "    </tr>\n",
       "    <tr>\n",
       "      <th>485</th>\n",
       "      <td>[castration-resistant prostate cancer]</td>\n",
       "      <td>[(+)-3c, (s)-warfarin, 6,7-dihydro-5h-pyrrolo[...</td>\n",
       "      <td>1</td>\n",
       "      <td>1</td>\n",
       "      <td>1</td>\n",
       "      <td>70</td>\n",
       "      <td>factoid</td>\n",
       "    </tr>\n",
       "    <tr>\n",
       "      <th>486</th>\n",
       "      <td>[glycosyltransferase 8 domain containing 1]</td>\n",
       "      <td>[bisulfite, c6orf136, cancer, chpf, flna, foxm...</td>\n",
       "      <td>0</td>\n",
       "      <td>0</td>\n",
       "      <td>1</td>\n",
       "      <td>23</td>\n",
       "      <td>factoid</td>\n",
       "    </tr>\n",
       "    <tr>\n",
       "      <th>487</th>\n",
       "      <td>[plasma membrane]</td>\n",
       "      <td>[adenosine, adenosine triphosphate, adp, amino...</td>\n",
       "      <td>0</td>\n",
       "      <td>1</td>\n",
       "      <td>1</td>\n",
       "      <td>55</td>\n",
       "      <td>factoid</td>\n",
       "    </tr>\n",
       "    <tr>\n",
       "      <th>488</th>\n",
       "      <td>[autosomal recessive]</td>\n",
       "      <td>[acute or chronic hepatitis, alanine, ammonium...</td>\n",
       "      <td>0</td>\n",
       "      <td>1</td>\n",
       "      <td>1</td>\n",
       "      <td>67</td>\n",
       "      <td>factoid</td>\n",
       "    </tr>\n",
       "  </tbody>\n",
       "</table>\n",
       "</div>"
      ],
      "text/plain": [
       "                                         answers  \\\n",
       "484                             [bazex syndrome]   \n",
       "485       [castration-resistant prostate cancer]   \n",
       "486  [glycosyltransferase 8 domain containing 1]   \n",
       "487                            [plasma membrane]   \n",
       "488                        [autosomal recessive]   \n",
       "\n",
       "                                              entities  exact_matches  \\\n",
       "484  [acral psoriasiform lesions, acrokeratosis, ac...              1   \n",
       "485  [(+)-3c, (s)-warfarin, 6,7-dihydro-5h-pyrrolo[...              1   \n",
       "486  [bisulfite, c6orf136, cancer, chpf, flna, foxm...              0   \n",
       "487  [adenosine, adenosine triphosphate, adp, amino...              0   \n",
       "488  [acute or chronic hepatitis, alanine, ammonium...              0   \n",
       "\n",
       "     soft_matches  total_answers  total_entities     type  \n",
       "484             1              1              75  factoid  \n",
       "485             1              1              70  factoid  \n",
       "486             0              1              23  factoid  \n",
       "487             1              1              55  factoid  \n",
       "488             1              1              67  factoid  "
      ]
     },
     "execution_count": 28,
     "metadata": {},
     "output_type": "execute_result"
    }
   ],
   "source": [
    "pubtator_results[pubtator_results.type == 'factoid'].head()"
   ]
  },
  {
   "cell_type": "markdown",
   "metadata": {},
   "source": [
    "## CNN Gram Tagger"
   ]
  },
  {
   "cell_type": "code",
   "execution_count": 3,
   "metadata": {},
   "outputs": [
    {
     "name": "stdout",
     "output_type": "stream",
     "text": [
      " [*] Loading GRAMCNN tensorflow model (3min)...\n",
      " [*] Loading checkpoints...\n",
      " [*] Finished loading.\n"
     ]
    }
   ],
   "source": [
    "from ner.gram import evaluate_sentence"
   ]
  },
  {
   "cell_type": "code",
   "execution_count": 9,
   "metadata": {},
   "outputs": [],
   "source": [
    "evaluate_sentence(data.questions[0].snippets[0].doc_id, data.questions[0].snippets[0].text)"
   ]
  },
  {
   "cell_type": "code",
   "execution_count": 11,
   "metadata": {},
   "outputs": [
    {
     "name": "stderr",
     "output_type": "stream",
     "text": [
      "100%|██████████| 1104/1104 [20:39<00:00,  1.12s/it]\n"
     ]
    }
   ],
   "source": [
    "cnn_gram_results = evaluator.evaluate(evaluate_sentence, data, snippets=True)"
   ]
  },
  {
   "cell_type": "code",
   "execution_count": 22,
   "metadata": {},
   "outputs": [],
   "source": [
    "# cnn_gram_results.to_csv('cnn_gram_results.csv', encoding='utf-8', index=False)\n",
    "cnn_gram_results = pd.read_csv('cnn_gram_results.csv', encoding='utf-8')"
   ]
  },
  {
   "cell_type": "code",
   "execution_count": 23,
   "metadata": {},
   "outputs": [
    {
     "data": {
      "text/html": [
       "<div>\n",
       "<style scoped>\n",
       "    .dataframe tbody tr th:only-of-type {\n",
       "        vertical-align: middle;\n",
       "    }\n",
       "\n",
       "    .dataframe tbody tr th {\n",
       "        vertical-align: top;\n",
       "    }\n",
       "\n",
       "    .dataframe thead th {\n",
       "        text-align: right;\n",
       "    }\n",
       "</style>\n",
       "<table border=\"1\" class=\"dataframe\">\n",
       "  <thead>\n",
       "    <tr style=\"text-align: right;\">\n",
       "      <th></th>\n",
       "      <th>type</th>\n",
       "      <th>exact_matched_questions</th>\n",
       "      <th>soft_match_questions</th>\n",
       "      <th>exact_matched_answers</th>\n",
       "      <th>soft_match_answers</th>\n",
       "    </tr>\n",
       "  </thead>\n",
       "  <tbody>\n",
       "    <tr>\n",
       "      <th>0</th>\n",
       "      <td>list</td>\n",
       "      <td>0.739040</td>\n",
       "      <td>1.000000</td>\n",
       "      <td>0.490365</td>\n",
       "      <td>1.000000</td>\n",
       "    </tr>\n",
       "    <tr>\n",
       "      <th>1</th>\n",
       "      <td>factoid</td>\n",
       "      <td>0.349026</td>\n",
       "      <td>0.998377</td>\n",
       "      <td>0.320937</td>\n",
       "      <td>0.998623</td>\n",
       "    </tr>\n",
       "  </tbody>\n",
       "</table>\n",
       "</div>"
      ],
      "text/plain": [
       "      type  exact_matched_questions  soft_match_questions  \\\n",
       "0     list                 0.739040              1.000000   \n",
       "1  factoid                 0.349026              0.998377   \n",
       "\n",
       "   exact_matched_answers  soft_match_answers  \n",
       "0               0.490365            1.000000  \n",
       "1               0.320937            0.998623  "
      ]
     },
     "execution_count": 23,
     "metadata": {},
     "output_type": "execute_result"
    }
   ],
   "source": [
    "evaluator.summary_from_results(cnn_gram_results)"
   ]
  },
  {
   "cell_type": "code",
   "execution_count": 24,
   "metadata": {},
   "outputs": [
    {
     "data": {
      "text/html": [
       "<div>\n",
       "<style scoped>\n",
       "    .dataframe tbody tr th:only-of-type {\n",
       "        vertical-align: middle;\n",
       "    }\n",
       "\n",
       "    .dataframe tbody tr th {\n",
       "        vertical-align: top;\n",
       "    }\n",
       "\n",
       "    .dataframe thead th {\n",
       "        text-align: right;\n",
       "    }\n",
       "</style>\n",
       "<table border=\"1\" class=\"dataframe\">\n",
       "  <thead>\n",
       "    <tr style=\"text-align: right;\">\n",
       "      <th></th>\n",
       "      <th>answers</th>\n",
       "      <th>entities</th>\n",
       "      <th>exact_matches</th>\n",
       "      <th>qid</th>\n",
       "      <th>soft_matches</th>\n",
       "      <th>total_answers</th>\n",
       "      <th>total_entities</th>\n",
       "      <th>type</th>\n",
       "    </tr>\n",
       "  </thead>\n",
       "  <tbody>\n",
       "    <tr>\n",
       "      <th>479</th>\n",
       "      <td>[bazex syndrome]</td>\n",
       "      <td>[&amp;, ', 's, (, ), ,, ., .method, 1, 102:301-306...</td>\n",
       "      <td>0</td>\n",
       "      <td>10</td>\n",
       "      <td>1</td>\n",
       "      <td>1</td>\n",
       "      <td>199</td>\n",
       "      <td>factoid</td>\n",
       "    </tr>\n",
       "    <tr>\n",
       "      <th>480</th>\n",
       "      <td>[castration-resistant prostate cancer]</td>\n",
       "      <td>[%, (, ), +, ,, --, -3c, ., 0.00001, 0.0001, 0...</td>\n",
       "      <td>0</td>\n",
       "      <td>14</td>\n",
       "      <td>1</td>\n",
       "      <td>1</td>\n",
       "      <td>242</td>\n",
       "      <td>factoid</td>\n",
       "    </tr>\n",
       "    <tr>\n",
       "      <th>481</th>\n",
       "      <td>[glycosyltransferase 8 domain containing 1]</td>\n",
       "      <td>[]</td>\n",
       "      <td>0</td>\n",
       "      <td>16</td>\n",
       "      <td>0</td>\n",
       "      <td>1</td>\n",
       "      <td>0</td>\n",
       "      <td>factoid</td>\n",
       "    </tr>\n",
       "    <tr>\n",
       "      <th>482</th>\n",
       "      <td>[plasma membrane]</td>\n",
       "      <td>['', (, ), ,, ., ;, ``, a, activation, and, ar...</td>\n",
       "      <td>0</td>\n",
       "      <td>19</td>\n",
       "      <td>1</td>\n",
       "      <td>1</td>\n",
       "      <td>148</td>\n",
       "      <td>factoid</td>\n",
       "    </tr>\n",
       "    <tr>\n",
       "      <th>483</th>\n",
       "      <td>[autosomal recessive]</td>\n",
       "      <td>[%, 's, (, ), ,, ., 11, 12, 13, 16, 1:1, 20, 2...</td>\n",
       "      <td>0</td>\n",
       "      <td>22</td>\n",
       "      <td>1</td>\n",
       "      <td>1</td>\n",
       "      <td>155</td>\n",
       "      <td>factoid</td>\n",
       "    </tr>\n",
       "  </tbody>\n",
       "</table>\n",
       "</div>"
      ],
      "text/plain": [
       "                                         answers  \\\n",
       "479                             [bazex syndrome]   \n",
       "480       [castration-resistant prostate cancer]   \n",
       "481  [glycosyltransferase 8 domain containing 1]   \n",
       "482                            [plasma membrane]   \n",
       "483                        [autosomal recessive]   \n",
       "\n",
       "                                              entities  exact_matches  qid  \\\n",
       "479  [&, ', 's, (, ), ,, ., .method, 1, 102:301-306...              0   10   \n",
       "480  [%, (, ), +, ,, --, -3c, ., 0.00001, 0.0001, 0...              0   14   \n",
       "481                                                 []              0   16   \n",
       "482  ['', (, ), ,, ., ;, ``, a, activation, and, ar...              0   19   \n",
       "483  [%, 's, (, ), ,, ., 11, 12, 13, 16, 1:1, 20, 2...              0   22   \n",
       "\n",
       "     soft_matches  total_answers  total_entities     type  \n",
       "479             1              1             199  factoid  \n",
       "480             1              1             242  factoid  \n",
       "481             0              1               0  factoid  \n",
       "482             1              1             148  factoid  \n",
       "483             1              1             155  factoid  "
      ]
     },
     "execution_count": 24,
     "metadata": {},
     "output_type": "execute_result"
    }
   ],
   "source": [
    "cnn_gram_results[cnn_gram_results.type == 'factoid'].head()"
   ]
  },
  {
   "cell_type": "markdown",
   "metadata": {},
   "source": [
    "## LingPipe Tagger"
   ]
  },
  {
   "cell_type": "code",
   "execution_count": 14,
   "metadata": {},
   "outputs": [],
   "source": [
    "from ner.lingpipe import NER_tagger_multiple"
   ]
  },
  {
   "cell_type": "code",
   "execution_count": 16,
   "metadata": {},
   "outputs": [
    {
     "name": "stderr",
     "output_type": "stream",
     "text": [
      "100%|██████████| 1104/1104 [19:42<00:00,  1.07s/it]\n"
     ]
    }
   ],
   "source": [
    "lingpipe_results = evaluator.evaluate(NER_tagger_multiple, data, multiple=True, snippets=True)"
   ]
  },
  {
   "cell_type": "code",
   "execution_count": 17,
   "metadata": {},
   "outputs": [],
   "source": [
    "# lingpipe_results.to_csv('lingpipe_results.csv', encoding='utf-8', index=False)\n",
    "lingpipe_results = pd.read_csv('lingpipe_results.csv', encoding='utf-8')"
   ]
  },
  {
   "cell_type": "code",
   "execution_count": 23,
   "metadata": {},
   "outputs": [
    {
     "data": {
      "text/html": [
       "<div>\n",
       "<style scoped>\n",
       "    .dataframe tbody tr th:only-of-type {\n",
       "        vertical-align: middle;\n",
       "    }\n",
       "\n",
       "    .dataframe tbody tr th {\n",
       "        vertical-align: top;\n",
       "    }\n",
       "\n",
       "    .dataframe thead th {\n",
       "        text-align: right;\n",
       "    }\n",
       "</style>\n",
       "<table border=\"1\" class=\"dataframe\">\n",
       "  <thead>\n",
       "    <tr style=\"text-align: right;\">\n",
       "      <th></th>\n",
       "      <th>type</th>\n",
       "      <th>exact_matched_questions</th>\n",
       "      <th>soft_match_questions</th>\n",
       "      <th>exact_matched_answers</th>\n",
       "      <th>soft_match_answers</th>\n",
       "    </tr>\n",
       "  </thead>\n",
       "  <tbody>\n",
       "    <tr>\n",
       "      <th>0</th>\n",
       "      <td>list</td>\n",
       "      <td>0.656250</td>\n",
       "      <td>0.939583</td>\n",
       "      <td>0.323409</td>\n",
       "      <td>0.737851</td>\n",
       "    </tr>\n",
       "    <tr>\n",
       "      <th>1</th>\n",
       "      <td>factoid</td>\n",
       "      <td>0.266667</td>\n",
       "      <td>0.767480</td>\n",
       "      <td>0.249655</td>\n",
       "      <td>0.760000</td>\n",
       "    </tr>\n",
       "  </tbody>\n",
       "</table>\n",
       "</div>"
      ],
      "text/plain": [
       "      type  exact_matched_questions  soft_match_questions  \\\n",
       "0     list                 0.656250              0.939583   \n",
       "1  factoid                 0.266667              0.767480   \n",
       "\n",
       "   exact_matched_answers  soft_match_answers  \n",
       "0               0.323409            0.737851  \n",
       "1               0.249655            0.760000  "
      ]
     },
     "execution_count": 23,
     "metadata": {},
     "output_type": "execute_result"
    }
   ],
   "source": [
    "evaluator.summary_from_results(lingpipe_results)"
   ]
  },
  {
   "cell_type": "code",
   "execution_count": 18,
   "metadata": {},
   "outputs": [
    {
     "data": {
      "text/html": [
       "<div>\n",
       "<style scoped>\n",
       "    .dataframe tbody tr th:only-of-type {\n",
       "        vertical-align: middle;\n",
       "    }\n",
       "\n",
       "    .dataframe tbody tr th {\n",
       "        vertical-align: top;\n",
       "    }\n",
       "\n",
       "    .dataframe thead th {\n",
       "        text-align: right;\n",
       "    }\n",
       "</style>\n",
       "<table border=\"1\" class=\"dataframe\">\n",
       "  <thead>\n",
       "    <tr style=\"text-align: right;\">\n",
       "      <th></th>\n",
       "      <th>answers</th>\n",
       "      <th>entities</th>\n",
       "      <th>exact_matches</th>\n",
       "      <th>qid</th>\n",
       "      <th>soft_matches</th>\n",
       "      <th>total_answers</th>\n",
       "      <th>total_entities</th>\n",
       "      <th>type</th>\n",
       "    </tr>\n",
       "  </thead>\n",
       "  <tbody>\n",
       "    <tr>\n",
       "      <th>480</th>\n",
       "      <td>[bazex syndrome]</td>\n",
       "      <td>[apb, bazex, bazex et al. acrokeratosis, bazex...</td>\n",
       "      <td>0</td>\n",
       "      <td>10</td>\n",
       "      <td>1</td>\n",
       "      <td>1</td>\n",
       "      <td>21</td>\n",
       "      <td>factoid</td>\n",
       "    </tr>\n",
       "    <tr>\n",
       "      <th>481</th>\n",
       "      <td>[castration-resistant prostate cancer]</td>\n",
       "      <td>[a naphthylmethylimidazole, abiraterone, andro...</td>\n",
       "      <td>0</td>\n",
       "      <td>14</td>\n",
       "      <td>1</td>\n",
       "      <td>1</td>\n",
       "      <td>31</td>\n",
       "      <td>factoid</td>\n",
       "    </tr>\n",
       "    <tr>\n",
       "      <th>482</th>\n",
       "      <td>[glycosyltransferase 8 domain containing 1]</td>\n",
       "      <td>[]</td>\n",
       "      <td>0</td>\n",
       "      <td>16</td>\n",
       "      <td>0</td>\n",
       "      <td>1</td>\n",
       "      <td>0</td>\n",
       "      <td>factoid</td>\n",
       "    </tr>\n",
       "    <tr>\n",
       "      <th>483</th>\n",
       "      <td>[plasma membrane]</td>\n",
       "      <td>[atp, cones, cytoplasm, glutamate, ions, molec...</td>\n",
       "      <td>0</td>\n",
       "      <td>19</td>\n",
       "      <td>0</td>\n",
       "      <td>1</td>\n",
       "      <td>15</td>\n",
       "      <td>factoid</td>\n",
       "    </tr>\n",
       "    <tr>\n",
       "      <th>484</th>\n",
       "      <td>[autosomal recessive]</td>\n",
       "      <td>[atp7b gene mutation, autosomal, caeruloplasmi...</td>\n",
       "      <td>0</td>\n",
       "      <td>22</td>\n",
       "      <td>1</td>\n",
       "      <td>1</td>\n",
       "      <td>10</td>\n",
       "      <td>factoid</td>\n",
       "    </tr>\n",
       "  </tbody>\n",
       "</table>\n",
       "</div>"
      ],
      "text/plain": [
       "                                         answers  \\\n",
       "480                             [bazex syndrome]   \n",
       "481       [castration-resistant prostate cancer]   \n",
       "482  [glycosyltransferase 8 domain containing 1]   \n",
       "483                            [plasma membrane]   \n",
       "484                        [autosomal recessive]   \n",
       "\n",
       "                                              entities  exact_matches  qid  \\\n",
       "480  [apb, bazex, bazex et al. acrokeratosis, bazex...              0   10   \n",
       "481  [a naphthylmethylimidazole, abiraterone, andro...              0   14   \n",
       "482                                                 []              0   16   \n",
       "483  [atp, cones, cytoplasm, glutamate, ions, molec...              0   19   \n",
       "484  [atp7b gene mutation, autosomal, caeruloplasmi...              0   22   \n",
       "\n",
       "     soft_matches  total_answers  total_entities     type  \n",
       "480             1              1              21  factoid  \n",
       "481             1              1              31  factoid  \n",
       "482             0              1               0  factoid  \n",
       "483             0              1              15  factoid  \n",
       "484             1              1              10  factoid  "
      ]
     },
     "execution_count": 18,
     "metadata": {},
     "output_type": "execute_result"
    }
   ],
   "source": [
    "lingpipe_results[lingpipe_results.type == 'factoid'].head()"
   ]
  },
  {
   "cell_type": "code",
   "execution_count": null,
   "metadata": {},
   "outputs": [],
   "source": []
  }
 ],
 "metadata": {
  "kernelspec": {
   "display_name": "Python 2",
   "language": "python",
   "name": "python2"
  },
  "language_info": {
   "codemirror_mode": {
    "name": "ipython",
    "version": 2
   },
   "file_extension": ".py",
   "mimetype": "text/x-python",
   "name": "python",
   "nbconvert_exporter": "python",
   "pygments_lexer": "ipython2",
   "version": "2.7.14"
  }
 },
 "nbformat": 4,
 "nbformat_minor": 2
}
